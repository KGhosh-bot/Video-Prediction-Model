{
  "cells": [
    {
      "cell_type": "markdown",
      "metadata": {
        "id": "Dt5xIcD_N9iE"
      },
      "source": [
        "# Next frame prediction\n",
        "\n",
        "The project consists of predicting the next frame in a short movie sequence.\n",
        "\n",
        "For this project, we shall use the Moving MNIST dataset, composed of 10,000 video sequences, each consisting of 20 frames. In each video sequence, two digits move independently around the frame, which has a spatial resolution of 64×64 pixels. The digits frequently intersect with each other and bounce off the edges of the frame.\n",
        "\n",
        "While each sequence has a lenght of 20, your are supposed to use **only 3 consecutive frames as input**, and **predict the next one**.\n",
        "\n",
        "The metric used to evalaute the quality of the predicted frame is Mean Squared Error."
      ]
    },
    {
      "cell_type": "code",
      "execution_count": 1,
      "metadata": {
        "execution": {
          "iopub.execute_input": "2023-07-07T19:13:31.754935Z",
          "iopub.status.busy": "2023-07-07T19:13:31.754650Z",
          "iopub.status.idle": "2023-07-07T19:13:43.121108Z",
          "shell.execute_reply": "2023-07-07T19:13:43.120187Z",
          "shell.execute_reply.started": "2023-07-07T19:13:31.754910Z"
        },
        "id": "rHpsiXAzNRQl",
        "trusted": true
      },
      "outputs": [],
      "source": [
        "import tensorflow as tf\n",
        "import tensorflow_datasets as tfds\n",
        "from tensorflow import keras\n",
        "from keras import layers\n",
        "\n",
        "import math\n",
        "import matplotlib.pyplot as plt\n",
        "import numpy as np"
      ]
    },
    {
      "cell_type": "code",
      "execution_count": 2,
      "metadata": {
        "colab": {
          "base_uri": "https://localhost:8080/",
          "height": 188,
          "referenced_widgets": [
            "2c2f8c708b7547529b96f7b876521976",
            "88963041d8cb4f66bafc9b76116d445d",
            "aff48e758968499e8e56554734bc01f8",
            "9b071fefa7fd435092604381d519d71b",
            "0e576feb156641b69729d5c85974fa31",
            "88609e8665e24fd0a614c83a222c9668",
            "8f0d0cfd85924c13a039330b032eeced",
            "2cccd43a5e5445ac97ba8899ec228ac7",
            "d50d7ef9c75247899a14cfb98df38593",
            "f9a60ee97d8d4332b73b6abaea44aa66",
            "20bb977a0712452b85e09e5f3f84aa12",
            "982ea6663bfc4812829351a538f4236d",
            "65b344ffc59c4c3f841648fb5dd3ef3f",
            "7f8af8ea96a14b4b8f7f8be3d5b066a7",
            "ccaeecd3610c4b499cc6a579f7056a34",
            "585f532140b74417bcb3fcc089ac97c3",
            "9beef0da6e3e47dd8c88f5e434e38d52",
            "bafc813853df4979b014b3806c644c75",
            "203a9839ad7f43bcb92668b6e4040593",
            "9fdba0766acf40b9bc87277e9e0ca43a",
            "402df473d5f54bed9e2e2fbe415a429a",
            "f21e6bd0d6524be69fdf004f6682044b",
            "497477e241b041a48a36fb71bd9fe0ef",
            "b4fd02f0839f48298227707438e3a583",
            "d230c964cb6148c38063a91e0956cb3d",
            "49cb99a82e614f1790fae0cd0be0fb12",
            "eca2594302504aa58d9e4976056eebd1",
            "0a111031ed16459b901676aa6b61c859",
            "ae664872702a4ff9a81d4580b09f28ea",
            "98bbd6e588794726a48bca2d049ed154",
            "dcd1761227ad40808c79ae23d3fb8054",
            "d2e5c7b26b544bd2abce4062cb0ac39e",
            "b3283aa9c04c4d9a8953525daac80f0a",
            "4bf45aade1b14249a9b1d768cce97161",
            "fb46ba918bd44cd381e011342fdd18ab",
            "c087e78deb824c28b441d39ec9b993dd",
            "ae5550a2cd91495d81f306369f4569e3",
            "bf3dbc07fb4e427daa467a0ee4fd6022",
            "b7e35074746a4ef3a6e55053c9bd2ccf",
            "e24c0681435d4823965f1a68766f4cd4",
            "f18831a2c6554145b3ec6ca90a2535f8",
            "17358b901317448fa080dd1f57be63e9",
            "96669c6c542846fe85b6fc9ca6609da5",
            "28c7bb36bc95450596c677872aaca04e",
            "d2f7182398c3417da0be5ec2c0c9529a",
            "dd947dfd02264beeab3c25adbe822aeb",
            "dce90136d8264e988f9a410105d80da2",
            "5e9fba1c7c484de3bdfb4ee3210e0f7f",
            "e3b2decd210749ea8de2d60bd3f37a17",
            "58ae6acbdf334f588cdfeb11676eb207",
            "7ae4888aa2114c0692fe07444cfc4dcb",
            "3532fd69f0d64fe980f323fdc495179d",
            "1052c87d727748c4a136d53d118601da",
            "77276b60d3044c5084f65c03dc56d65a",
            "6254ebd25f3641aa92fea7829ce76fb9"
          ]
        },
        "execution": {
          "iopub.execute_input": "2023-07-07T19:13:57.988108Z",
          "iopub.status.busy": "2023-07-07T19:13:57.987494Z",
          "iopub.status.idle": "2023-07-07T19:16:35.912406Z",
          "shell.execute_reply": "2023-07-07T19:16:35.911411Z",
          "shell.execute_reply.started": "2023-07-07T19:13:57.988076Z"
        },
        "id": "u2Xu_ci1NSCM",
        "outputId": "a1cdcd99-070e-4382-ef02-0a4b46d7fcc4",
        "trusted": true
      },
      "outputs": [
        {
          "name": "stderr",
          "output_type": "stream",
          "text": [
            "WARNING:absl:You use TensorFlow DType <dtype: 'uint8'> in tfds.features This will soon be deprecated in favor of NumPy DTypes. In the meantime it was converted to uint8.\n"
          ]
        },
        {
          "name": "stdout",
          "output_type": "stream",
          "text": [
            "Downloading and preparing dataset Unknown size (download: Unknown size, generated: 91.70 MiB, total: 91.70 MiB) to /root/tensorflow_datasets/moving_mnist/1.0.0...\n"
          ]
        },
        {
          "data": {
            "application/vnd.jupyter.widget-view+json": {
              "model_id": "2c2f8c708b7547529b96f7b876521976",
              "version_major": 2,
              "version_minor": 0
            },
            "text/plain": [
              "Dl Completed...: 0 url [00:00, ? url/s]"
            ]
          },
          "metadata": {},
          "output_type": "display_data"
        },
        {
          "data": {
            "application/vnd.jupyter.widget-view+json": {
              "model_id": "982ea6663bfc4812829351a538f4236d",
              "version_major": 2,
              "version_minor": 0
            },
            "text/plain": [
              "Dl Size...: 0 MiB [00:00, ? MiB/s]"
            ]
          },
          "metadata": {},
          "output_type": "display_data"
        },
        {
          "data": {
            "application/vnd.jupyter.widget-view+json": {
              "model_id": "497477e241b041a48a36fb71bd9fe0ef",
              "version_major": 2,
              "version_minor": 0
            },
            "text/plain": [
              "Generating splits...:   0%|          | 0/1 [00:00<?, ? splits/s]"
            ]
          },
          "metadata": {},
          "output_type": "display_data"
        },
        {
          "data": {
            "application/vnd.jupyter.widget-view+json": {
              "model_id": "4bf45aade1b14249a9b1d768cce97161",
              "version_major": 2,
              "version_minor": 0
            },
            "text/plain": [
              "Generating test examples...:   0%|          | 0/10000 [00:00<?, ? examples/s]"
            ]
          },
          "metadata": {},
          "output_type": "display_data"
        },
        {
          "data": {
            "application/vnd.jupyter.widget-view+json": {
              "model_id": "d2f7182398c3417da0be5ec2c0c9529a",
              "version_major": 2,
              "version_minor": 0
            },
            "text/plain": [
              "Shuffling /root/tensorflow_datasets/moving_mnist/1.0.0.incompleteLH4YNX/moving_mnist-test.tfrecord*...:   0%| …"
            ]
          },
          "metadata": {},
          "output_type": "display_data"
        },
        {
          "name": "stderr",
          "output_type": "stream",
          "text": [
            "WARNING:absl:`FeatureConnector.dtype` is deprecated. Please change your code to use NumPy with the field `FeatureConnector.np_dtype` or use TensorFlow with the field `FeatureConnector.tf_dtype`.\n",
            "WARNING:absl:`FeatureConnector.dtype` is deprecated. Please change your code to use NumPy with the field `FeatureConnector.np_dtype` or use TensorFlow with the field `FeatureConnector.tf_dtype`.\n"
          ]
        },
        {
          "name": "stdout",
          "output_type": "stream",
          "text": [
            "Dataset moving_mnist downloaded and prepared to /root/tensorflow_datasets/moving_mnist/1.0.0. Subsequent calls will reuse this data.\n"
          ]
        }
      ],
      "source": [
        "ds = tfds.as_numpy(tfds.load(\n",
        "    'moving_mnist',\n",
        "    split='test',\n",
        "    batch_size=-1\n",
        "))\n",
        "sequences = ds['image_sequence']"
      ]
    },
    {
      "cell_type": "code",
      "execution_count": 3,
      "metadata": {
        "colab": {
          "base_uri": "https://localhost:8080/"
        },
        "execution": {
          "iopub.execute_input": "2023-07-07T19:16:35.914611Z",
          "iopub.status.busy": "2023-07-07T19:16:35.914172Z",
          "iopub.status.idle": "2023-07-07T19:16:41.972804Z",
          "shell.execute_reply": "2023-07-07T19:16:41.971143Z",
          "shell.execute_reply.started": "2023-07-07T19:16:35.914577Z"
        },
        "id": "lZIsAS7NNUo7",
        "outputId": "d0e42665-225d-4d1b-c702-62f65d937ce5",
        "trusted": true
      },
      "outputs": [
        {
          "name": "stdout",
          "output_type": "stream",
          "text": [
            "(10000, 64, 64, 20)\n",
            "0.0 1.0\n"
          ]
        }
      ],
      "source": [
        "sequences = np.squeeze(np.swapaxes(sequences, 1, 4),axis=1)/255.\n",
        "print(sequences.shape)\n",
        "print(np.min(sequences),np.max(sequences))"
      ]
    },
    {
      "cell_type": "code",
      "execution_count": 4,
      "metadata": {
        "execution": {
          "iopub.execute_input": "2023-07-07T19:16:46.876291Z",
          "iopub.status.busy": "2023-07-07T19:16:46.875923Z",
          "iopub.status.idle": "2023-07-07T19:16:46.881468Z",
          "shell.execute_reply": "2023-07-07T19:16:46.880490Z",
          "shell.execute_reply.started": "2023-07-07T19:16:46.876262Z"
        },
        "id": "GW_vt_qzNbcO",
        "trusted": true
      },
      "outputs": [],
      "source": [
        "trainset = sequences[:8000]\n",
        "valset = sequences[8000:9000]\n",
        "testset = sequences[9000:10000]"
      ]
    },
    {
      "cell_type": "code",
      "execution_count": 5,
      "metadata": {
        "execution": {
          "iopub.execute_input": "2023-07-07T19:17:22.085040Z",
          "iopub.status.busy": "2023-07-07T19:17:22.084671Z",
          "iopub.status.idle": "2023-07-07T19:17:22.093455Z",
          "shell.execute_reply": "2023-07-07T19:17:22.092293Z",
          "shell.execute_reply.started": "2023-07-07T19:17:22.085010Z"
        },
        "id": "JBhPwvlINkRf",
        "trusted": true
      },
      "outputs": [],
      "source": [
        "def image_generator(dataset,batchsize=16,seqlen=4):\n",
        "    while True:\n",
        "      batch_x = np.zeros((batchsize,64,64,seqlen-1))\n",
        "      batch_y = np.zeros((batchsize,64,64,1))\n",
        "      ran = np.random.randint(dataset.shape[0],size=batchsize)\n",
        "      minibatch = dataset[ran]\n",
        "      #these sequences have length 20; we reduce them to seqlen\n",
        "      for i in range(batchsize):\n",
        "          random_start = np.random.randint(0,20-seqlen)\n",
        "          random_end = random_start+seqlen-1\n",
        "          batch_x[i] = minibatch[i,:,:,random_start:random_end]\n",
        "          batch_y[i] = minibatch[i,:,:,random_end:random_end+1]\n",
        "          #print(batch_x.shape,batch_y.shape)\n",
        "          #print(batch_x.min(),batch_x.max())\n",
        "          #print(batch_x.min(),batch_x.max())\n",
        "      yield(batch_x,batch_y)"
      ]
    },
    {
      "cell_type": "code",
      "execution_count": 6,
      "metadata": {
        "execution": {
          "iopub.execute_input": "2023-07-07T19:17:36.493020Z",
          "iopub.status.busy": "2023-07-07T19:17:36.492675Z",
          "iopub.status.idle": "2023-07-07T19:17:36.498479Z",
          "shell.execute_reply": "2023-07-07T19:17:36.497194Z",
          "shell.execute_reply.started": "2023-07-07T19:17:36.492992Z"
        },
        "id": "gUIw8BG_Novf",
        "trusted": true
      },
      "outputs": [],
      "source": [
        "prova_gen = image_generator(testset,batchsize=1,seqlen=4)"
      ]
    },
    {
      "cell_type": "code",
      "execution_count": 7,
      "metadata": {
        "execution": {
          "iopub.execute_input": "2023-07-07T19:17:39.302835Z",
          "iopub.status.busy": "2023-07-07T19:17:39.302493Z",
          "iopub.status.idle": "2023-07-07T19:17:39.312987Z",
          "shell.execute_reply": "2023-07-07T19:17:39.311785Z",
          "shell.execute_reply.started": "2023-07-07T19:17:39.302807Z"
        },
        "id": "PdXjSIRlNphh",
        "trusted": true
      },
      "outputs": [],
      "source": [
        "sample_x, sample_y = next(prova_gen)"
      ]
    },
    {
      "cell_type": "code",
      "execution_count": 8,
      "metadata": {
        "colab": {
          "base_uri": "https://localhost:8080/"
        },
        "execution": {
          "iopub.execute_input": "2023-07-07T19:17:41.439567Z",
          "iopub.status.busy": "2023-07-07T19:17:41.438916Z",
          "iopub.status.idle": "2023-07-07T19:17:41.444921Z",
          "shell.execute_reply": "2023-07-07T19:17:41.443440Z",
          "shell.execute_reply.started": "2023-07-07T19:17:41.439537Z"
        },
        "id": "3QTF_7qtNrsG",
        "outputId": "d98cff95-63a1-4dbd-e6f6-e12d549469dd",
        "trusted": true
      },
      "outputs": [
        {
          "name": "stdout",
          "output_type": "stream",
          "text": [
            "<class 'numpy.ndarray'>\n"
          ]
        }
      ],
      "source": [
        "print(type(sample_x))"
      ]
    },
    {
      "cell_type": "code",
      "execution_count": 9,
      "metadata": {
        "execution": {
          "iopub.execute_input": "2023-07-07T19:17:43.628185Z",
          "iopub.status.busy": "2023-07-07T19:17:43.627811Z",
          "iopub.status.idle": "2023-07-07T19:17:43.635161Z",
          "shell.execute_reply": "2023-07-07T19:17:43.633358Z",
          "shell.execute_reply.started": "2023-07-07T19:17:43.628150Z"
        },
        "id": "SlcllLQeNuJ-",
        "trusted": true
      },
      "outputs": [],
      "source": [
        "def show_list(images): #takes in input a list of images and plot them\n",
        "    size = len(images)\n",
        "    plt.figure(figsize=(10, 10 * size))\n",
        "    for i in range(size):\n",
        "        plt.subplot(1, size, i + 1)\n",
        "        plt.imshow(images[i],cmap='gray',)\n",
        "    plt.axis(\"off\")\n",
        "    plt.tight_layout()\n",
        "    plt.show()\n",
        "    plt.close()"
      ]
    },
    {
      "cell_type": "code",
      "execution_count": 10,
      "metadata": {
        "colab": {
          "base_uri": "https://localhost:8080/",
          "height": 268
        },
        "execution": {
          "iopub.execute_input": "2023-07-07T19:17:45.721429Z",
          "iopub.status.busy": "2023-07-07T19:17:45.719590Z",
          "iopub.status.idle": "2023-07-07T19:17:46.361438Z",
          "shell.execute_reply": "2023-07-07T19:17:46.359594Z",
          "shell.execute_reply.started": "2023-07-07T19:17:45.721390Z"
        },
        "id": "nSEnZ7SCNwpJ",
        "outputId": "d6c38a77-6ad6-41aa-8e66-b215927fe703",
        "trusted": true
      },
      "outputs": [
        {
          "data": {
            "image/png": "[encoded data removed]",
            "text/plain": [
              "<Figure size 1000x4000 with 4 Axes>"
            ]
          },
          "metadata": {},
          "output_type": "display_data"
        }
      ],
      "source": [
        "all = [sample_x[0,:,:,i] for i in range(3)]+[sample_y[0,:,:,0]]\n",
        "show_list(all)"
      ]
    },
    {
      "cell_type": "code",
      "execution_count": 11,
      "metadata": {
        "execution": {
          "iopub.execute_input": "2023-07-07T19:18:05.061994Z",
          "iopub.status.busy": "2023-07-07T19:18:05.061629Z",
          "iopub.status.idle": "2023-07-07T19:18:05.066970Z",
          "shell.execute_reply": "2023-07-07T19:18:05.065834Z",
          "shell.execute_reply.started": "2023-07-07T19:18:05.061965Z"
        },
        "id": "n9U4ELWm9ZZD",
        "trusted": true
      },
      "outputs": [],
      "source": [
        "batch = 32"
      ]
    },
    {
      "cell_type": "code",
      "execution_count": 12,
      "metadata": {
        "execution": {
          "iopub.execute_input": "2023-07-07T19:18:35.680186Z",
          "iopub.status.busy": "2023-07-07T19:18:35.679814Z",
          "iopub.status.idle": "2023-07-07T19:18:35.685875Z",
          "shell.execute_reply": "2023-07-07T19:18:35.684549Z",
          "shell.execute_reply.started": "2023-07-07T19:18:35.680152Z"
        },
        "id": "tGdrEX2mNzfX",
        "trusted": true
      },
      "outputs": [],
      "source": [
        "train_gen = image_generator(trainset, batchsize= batch)\n",
        "val_gen = image_generator(valset, batchsize= batch)\n",
        "test_gen = image_generator(testset, batchsize= batch)"
      ]
    },
    {
      "cell_type": "code",
      "execution_count": 13,
      "metadata": {
        "colab": {
          "base_uri": "https://localhost:8080/"
        },
        "execution": {
          "iopub.execute_input": "2023-07-07T19:18:38.302318Z",
          "iopub.status.busy": "2023-07-07T19:18:38.301951Z",
          "iopub.status.idle": "2023-07-07T19:18:38.318706Z",
          "shell.execute_reply": "2023-07-07T19:18:38.317004Z",
          "shell.execute_reply.started": "2023-07-07T19:18:38.302288Z"
        },
        "id": "gEO2VmVoN4Bz",
        "outputId": "f476d8be-918d-45bd-9680-faf208f3c56a",
        "trusted": true
      },
      "outputs": [
        {
          "data": {
            "text/plain": [
              "((32, 64, 64, 3), (32, 64, 64, 1))"
            ]
          },
          "execution_count": 13,
          "metadata": {},
          "output_type": "execute_result"
        }
      ],
      "source": [
        "sample_x, sample_y = next(train_gen)\n",
        "sample_x.shape, sample_y.shape"
      ]
    },
    {
      "cell_type": "markdown",
      "metadata": {
        "id": "XpoDqoJgQ0hh"
      },
      "source": [
        "# The Model"
      ]
    },
    {
      "cell_type": "markdown",
      "metadata": {
        "id": "nHb3YFevQkAl"
      },
      "source": [
        "The model, personalized SimVP, consists of an encoder, a\n",
        "translator and a decoder built on CNN only.\n",
        "1. The encoder is used to extract spatial features,\n",
        "2. the translator learns temporal evolution, and\n",
        "3. the decoder integrates spatio-temporal information to predict future frame.\n"
      ]
    },
    {
      "cell_type": "markdown",
      "metadata": {
        "id": "vtt2QK4qQ4NM"
      },
      "source": [
        "## Model Structure\n",
        "\n",
        "The model is based on this structure.\n",
        "\n",
        "![model_structure.jpeg](data:image/jpeg;base64,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)\n",
        "\n",
        "where in this case the number of channels C for Moving MNIST is 1 (single channel for grayscale).\n",
        "\n",
        "The input/output shape is (H, W, T) for Height, Width and Frames\n",
        "\n",
        "Input is $x[0 : (n-1)]$\n",
        "\n",
        "Output is $x[n]$\n",
        "\n",
        "where n is number of frames"
      ]
    },
    {
      "cell_type": "markdown",
      "metadata": {
        "id": "h-rzWT8LUm_C"
      },
      "source": [
        "![Detailed structure.jpeg](data:image/jpeg;base64,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)\n",
        "\n",
        "The Inception Module used here is a generic Inception module with dimention reduction.\n",
        "\n",
        "kernel sizes [1,3,5,7]"
      ]
    },
    {
      "cell_type": "code",
      "execution_count": 14,
      "metadata": {
        "execution": {
          "iopub.execute_input": "2023-07-07T19:18:43.670618Z",
          "iopub.status.busy": "2023-07-07T19:18:43.669973Z",
          "iopub.status.idle": "2023-07-07T19:18:43.678872Z",
          "shell.execute_reply": "2023-07-07T19:18:43.677964Z",
          "shell.execute_reply.started": "2023-07-07T19:18:43.670588Z"
        },
        "id": "97LZ8xhdOBUl",
        "trusted": true
      },
      "outputs": [],
      "source": [
        "import tensorflow as tf\n",
        "from tensorflow.keras.layers import Conv2D, Conv2DTranspose, LayerNormalization, LeakyReLU, Input, MaxPooling2D, concatenate"
      ]
    },
    {
      "cell_type": "markdown",
      "metadata": {
        "id": "74PWrJZYU_HN"
      },
      "source": [
        "### Encoder\n",
        "\n",
        "The encoder stacks $Ns$ ConvNormReLU blocks\n",
        "(Conv2d+LayerNorm+LeakyReLU) to extract spatial features, i.e., convoluting on (H, W).\n",
        "\n",
        "The hidden feature is:\n",
        "$z_{i} = \\sigma (\\mathrm {LayerNorm} (\\mathrm {Conv2d}(z_{i-1}))), 1 \\leq i \\leq N_s $\n",
        "\n",
        "where the input $zi−1$ and output $zi$ shapes are (H, W, 3)\n",
        "and (Hˆ, Wˆ, Tˆ ), respectively.\n"
      ]
    },
    {
      "cell_type": "code",
      "execution_count": 15,
      "metadata": {
        "execution": {
          "iopub.execute_input": "2023-07-07T19:19:00.443909Z",
          "iopub.status.busy": "2023-07-07T19:19:00.443554Z",
          "iopub.status.idle": "2023-07-07T19:19:00.451226Z",
          "shell.execute_reply": "2023-07-07T19:19:00.448461Z",
          "shell.execute_reply.started": "2023-07-07T19:19:00.443880Z"
        },
        "id": "b-X4BIrv9ZZF",
        "trusted": true
      },
      "outputs": [],
      "source": [
        "def stride_generator(N_s, reverse=False):\n",
        "    strides = [1, 2] * 10\n",
        "    if reverse:\n",
        "        return list(reversed(strides[:N_s]))\n",
        "    else:\n",
        "        return strides[:N_s]"
      ]
    },
    {
      "cell_type": "code",
      "execution_count": 16,
      "metadata": {
        "execution": {
          "iopub.execute_input": "2023-07-07T19:22:15.720379Z",
          "iopub.status.busy": "2023-07-07T19:22:15.719976Z",
          "iopub.status.idle": "2023-07-07T19:22:15.729635Z",
          "shell.execute_reply": "2023-07-07T19:22:15.728619Z",
          "shell.execute_reply.started": "2023-07-07T19:22:15.720347Z"
        },
        "id": "nOIEpLBMOEcm",
        "trusted": true
      },
      "outputs": [],
      "source": [
        "class Encoder(tf.keras.Model):\n",
        "    def __init__(self, N_s):\n",
        "        super(Encoder, self).__init__()\n",
        "        self.N_s = N_s\n",
        "        self.conv_norm_relu_blocks = []\n",
        "\n",
        "        # Get the strides using stride_generator\n",
        "        strides = stride_generator(N_s,reverse=True)\n",
        "\n",
        "        for i, stride in zip(range(1, N_s + 1), strides):\n",
        "            self.conv_norm_relu_blocks.append(self.create_conv_norm_relu_block(stride))\n",
        "\n",
        "    def create_conv_norm_relu_block(self,stride):\n",
        "        return tf.keras.Sequential([\n",
        "            Conv2D(64, (3, 3), strides=(stride, stride),  padding='same'),\n",
        "            LayerNormalization(),\n",
        "            LeakyReLU(alpha=0.2)\n",
        "        ])\n",
        "\n",
        "    def call(self, inputs):\n",
        "        z_i_minus_1 = inputs  # shape (batch_size, H, W, 3)\n",
        "\n",
        "        for conv_norm_relu_block in self.conv_norm_relu_blocks:\n",
        "            z_i = conv_norm_relu_block(z_i_minus_1)  # shape (batch_size, Hˆ, Wˆ, 64)\n",
        "            z_i_minus_1 = z_i\n",
        "\n",
        "        return z_i"
      ]
    },
    {
      "cell_type": "code",
      "execution_count": 22,
      "metadata": {
        "colab": {
          "base_uri": "https://localhost:8080/"
        },
        "id": "vnMMX2H2m9GS",
        "outputId": "89a60273-5a94-4208-c4f6-5c4d9cd25dfb"
      },
      "outputs": [
        {
          "name": "stdout",
          "output_type": "stream",
          "text": [
            "Model: \"encoder_2\"\n",
            "_________________________________________________________________\n",
            " Layer (type)                Output Shape              Param #   \n",
            "=================================================================\n",
            " sequential_21 (Sequential)  (None, 64, 64, 64)        1920      \n",
            "                                                                 \n",
            " sequential_22 (Sequential)  (None, 32, 32, 64)        37056     \n",
            "                                                                 \n",
            " sequential_23 (Sequential)  (None, 32, 32, 64)        37056     \n",
            "                                                                 \n",
            "=================================================================\n",
            "Total params: 76,032\n",
            "Trainable params: 76,032\n",
            "Non-trainable params: 0\n",
            "_________________________________________________________________\n",
            "Total Parameters: 76032\n"
          ]
        }
      ],
      "source": [
        "encoder = Encoder(3)\n",
        "encoder.build((None, 64, 64, 3))\n",
        "encoder.summary()\n",
        "total_params = encoder.count_params()\n",
        "\n",
        "print(\"Total Parameters:\", total_params)"
      ]
    },
    {
      "cell_type": "markdown",
      "metadata": {
        "id": "ZTJGzOXBWFdB"
      },
      "source": [
        "### Translator\n",
        "\n",
        "The translator employs $Nt$ Inception modules to learn temporal evolution, i.e., convoluting on (Hˆ, Wˆ). The Inception module consists of a bottleneck\n",
        "Conv2d with 1×1 kernel followed by parallel Conv2d\n",
        "operators.\n",
        "\n",
        "The hidden feature is:\n",
        "$z_{j} = \\mathrm {Inception}( z_{j-1} ), N_s < j \\leq N_s+N_t $\n",
        "\n",
        "where the inputs $zj−1$ and output $zj$ shapes are (Hˆ, Wˆ, C ) and ( H', W ', C )."
      ]
    },
    {
      "cell_type": "code",
      "execution_count": 23,
      "metadata": {
        "execution": {
          "iopub.execute_input": "2023-07-07T19:22:53.703704Z",
          "iopub.status.busy": "2023-07-07T19:22:53.703347Z",
          "iopub.status.idle": "2023-07-07T19:22:53.715687Z",
          "shell.execute_reply": "2023-07-07T19:22:53.714579Z",
          "shell.execute_reply.started": "2023-07-07T19:22:53.703676Z"
        },
        "id": "877d8klg9ZZG",
        "trusted": true
      },
      "outputs": [],
      "source": [
        "class Translator(tf.keras.Model):\n",
        "    def __init__(self, N_s, N_t):\n",
        "        super(Translator, self).__init__()\n",
        "        self.N_s = N_s\n",
        "        self.N_t = N_t\n",
        "        self.inception_layers = []\n",
        "\n",
        "        for j in range(N_s + 1, N_s + N_t + 1):\n",
        "            self.inception_layers.append(self.create_inception_module())\n",
        "\n",
        "    def create_inception_module(self):\n",
        "        tower_1 = tf.keras.Sequential([\n",
        "            Conv2D(64, (1, 1), padding='same', activation='relu'),\n",
        "            Conv2D(64, (3, 3), padding='same', activation='relu')\n",
        "        ])\n",
        "\n",
        "        tower_2 = tf.keras.Sequential([\n",
        "            Conv2D(64, (1, 1), padding='same', activation='relu'),\n",
        "            Conv2D(64, (5, 5), padding='same', activation='relu')\n",
        "        ])\n",
        "\n",
        "        tower_3 = tf.keras.Sequential([\n",
        "            Conv2D(64, (1, 1), padding='same', activation='relu'),\n",
        "            Conv2D(64, (7, 7), padding='same', activation='relu')\n",
        "        ])\n",
        "\n",
        "        tower_4 = tf.keras.Sequential([\n",
        "            MaxPooling2D((3, 3), strides=(1, 1), padding='same'),\n",
        "            Conv2D(64, (1, 1), padding='same', activation='relu')\n",
        "        ])\n",
        "\n",
        "        return [tower_1, tower_2, tower_3, tower_4]\n",
        "\n",
        "    def call(self, inputs):\n",
        "        z_j_minus_1 = inputs  # shape (batch_size, Hˆ, Wˆ, 64)\n",
        "\n",
        "        for inception in self.inception_layers:\n",
        "            tower_1_output = inception[0](z_j_minus_1)\n",
        "            tower_2_output = inception[1](z_j_minus_1)\n",
        "            tower_3_output = inception[2](z_j_minus_1)\n",
        "            tower_4_output = inception[3](z_j_minus_1)\n",
        "\n",
        "            z_j_minus_1 = concatenate([tower_1_output, tower_2_output, tower_3_output, tower_4_output], axis=-1) # shape (batch_size, H', W', 64)\n",
        "\n",
        "        return z_j_minus_1\n"
      ]
    },
    {
      "cell_type": "code",
      "execution_count": 24,
      "metadata": {
        "colab": {
          "base_uri": "https://localhost:8080/"
        },
        "execution": {
          "iopub.execute_input": "2023-07-07T19:23:13.908770Z",
          "iopub.status.busy": "2023-07-07T19:23:13.908393Z",
          "iopub.status.idle": "2023-07-07T19:23:14.299077Z",
          "shell.execute_reply": "2023-07-07T19:23:14.298310Z",
          "shell.execute_reply.started": "2023-07-07T19:23:13.908740Z"
        },
        "id": "yb6XNgeU9ZZG",
        "outputId": "eb900b7a-bea9-4e69-f147-fa0c17adc9ad",
        "trusted": true
      },
      "outputs": [
        {
          "name": "stdout",
          "output_type": "stream",
          "text": [
            "Model: \"translator_1\"\n",
            "_________________________________________________________________\n",
            " Layer (type)                Output Shape              Param #   \n",
            "=================================================================\n",
            " sequential_24 (Sequential)  (None, 64, 64, 64)        37184     \n",
            "                                                                 \n",
            " sequential_25 (Sequential)  (None, 64, 64, 64)        102720    \n",
            "                                                                 \n",
            " sequential_26 (Sequential)  (None, 64, 64, 64)        201024    \n",
            "                                                                 \n",
            " sequential_27 (Sequential)  (None, 64, 64, 64)        256       \n",
            "                                                                 \n",
            " sequential_28 (Sequential)  (None, 64, 64, 64)        53376     \n",
            "                                                                 \n",
            " sequential_29 (Sequential)  (None, 64, 64, 64)        118912    \n",
            "                                                                 \n",
            " sequential_30 (Sequential)  (None, 64, 64, 64)        217216    \n",
            "                                                                 \n",
            " sequential_31 (Sequential)  (None, 64, 64, 64)        16448     \n",
            "                                                                 \n",
            " sequential_32 (Sequential)  (None, 64, 64, 64)        53376     \n",
            "                                                                 \n",
            " sequential_33 (Sequential)  (None, 64, 64, 64)        118912    \n",
            "                                                                 \n",
            " sequential_34 (Sequential)  (None, 64, 64, 64)        217216    \n",
            "                                                                 \n",
            " sequential_35 (Sequential)  (None, 64, 64, 64)        16448     \n",
            "                                                                 \n",
            "=================================================================\n",
            "Total params: 1,153,088\n",
            "Trainable params: 1,153,088\n",
            "Non-trainable params: 0\n",
            "_________________________________________________________________\n",
            "Total Parameters: 1153088\n"
          ]
        }
      ],
      "source": [
        "translator = Translator(3, 3)\n",
        "translator.build((None, 64, 64, 3))\n",
        "translator.summary()\n",
        "total_params = translator.count_params()\n",
        "\n",
        "print(\"Total Parameters:\", total_params)"
      ]
    },
    {
      "cell_type": "markdown",
      "metadata": {
        "id": "vTgdzeO7X-pu"
      },
      "source": [
        "### Decoder\n",
        "\n",
        "The decoder utilizes $Ns$ unConvNormReLU\n",
        "blocks (ConvTranspose2d+GroupNorm+LeakyReLU) to\n",
        "reconstruct the ground truth frames, which convolutes on (H', W'). The hidden feature is:\n",
        "$z_{k} = \\sigma (\\mathrm {GroupNorm} (\\mathrm {unConv2d}(z_{k-1}))),\\\\ N_s+N_t<k \\leq 2N_s+N_t $\n",
        "\n",
        "where the shapes of input $zk−1$ and output $zk$ are\n",
        "(H', W', C ) and (H, W, 1), respectively. Using ConvTranspose2d to serve as the unConv2d operator."
      ]
    },
    {
      "cell_type": "code",
      "execution_count": 25,
      "metadata": {
        "execution": {
          "iopub.execute_input": "2023-07-07T19:23:26.195934Z",
          "iopub.status.busy": "2023-07-07T19:23:26.195564Z",
          "iopub.status.idle": "2023-07-07T19:23:26.207517Z",
          "shell.execute_reply": "2023-07-07T19:23:26.206382Z",
          "shell.execute_reply.started": "2023-07-07T19:23:26.195904Z"
        },
        "id": "f1qpZ0ixOMXv",
        "trusted": true
      },
      "outputs": [],
      "source": [
        "class Decoder(tf.keras.Model):\n",
        "    def __init__(self, N_s, N_t):\n",
        "        super(Decoder, self).__init__()\n",
        "        self.N_s = N_s\n",
        "        self.N_t = N_t\n",
        "        self.unconv_norm_relu_blocks = []\n",
        "\n",
        "        strides = stride_generator(2 * N_s + N_t, reverse=True)\n",
        "\n",
        "        for k, stride in zip(range(N_s + N_t + 1, 2 * N_s + N_t + 1), strides[:-1]):\n",
        "            self.unconv_norm_relu_blocks.append(self.create_unconv_norm_relu_block(stride))\n",
        "\n",
        "        self.final_conv = Conv2D(1, (3, 3), padding='same', activation='sigmoid')\n",
        "\n",
        "    def create_unconv_norm_relu_block(self, stride):\n",
        "        return tf.keras.Sequential([\n",
        "            Conv2DTranspose(64, (3, 3), strides=(stride, stride), padding='same'),\n",
        "            LayerNormalization(),\n",
        "            LeakyReLU(alpha=0.2)\n",
        "        ])\n",
        "\n",
        "    def call(self, inputs):\n",
        "        z_k_minus_1 = inputs  # shape (batch_size, H', W', 64)\n",
        "\n",
        "        for unconv_norm_relu_block in self.unconv_norm_relu_blocks:\n",
        "            z_k = unconv_norm_relu_block(z_k_minus_1)  # shape (batch_size, H', W', 64)\n",
        "            z_k_minus_1 = z_k\n",
        "\n",
        "        # Final convolution to generate next predicted frame\n",
        "        next_frame = self.final_conv(z_k)  # shape (batch_size, H, W, 1)\n",
        "\n",
        "        return next_frame\n"
      ]
    },
    {
      "cell_type": "code",
      "execution_count": 27,
      "metadata": {
        "colab": {
          "base_uri": "https://localhost:8080/"
        },
        "id": "0zQOsDy-nJcn",
        "outputId": "612dc588-8e1e-45f5-de13-56c23646fc15"
      },
      "outputs": [
        {
          "name": "stdout",
          "output_type": "stream",
          "text": [
            "Model: \"decoder_1\"\n",
            "_________________________________________________________________\n",
            " Layer (type)                Output Shape              Param #   \n",
            "=================================================================\n",
            " sequential_36 (Sequential)  (None, 64, 64, 64)        1920      \n",
            "                                                                 \n",
            " sequential_37 (Sequential)  (None, 128, 128, 64)      37056     \n",
            "                                                                 \n",
            " sequential_38 (Sequential)  (None, 128, 128, 64)      37056     \n",
            "                                                                 \n",
            " conv2d_52 (Conv2D)          multiple                  577       \n",
            "                                                                 \n",
            "=================================================================\n",
            "Total params: 76,609\n",
            "Trainable params: 76,609\n",
            "Non-trainable params: 0\n",
            "_________________________________________________________________\n",
            "Total Parameters: 76609\n"
          ]
        }
      ],
      "source": [
        "decoder = Decoder(3,3)\n",
        "decoder.build((None, 64, 64, 3))\n",
        "decoder.summary()\n",
        "total_params = decoder.count_params()\n",
        "\n",
        "print(\"Total Parameters:\", total_params)"
      ]
    },
    {
      "cell_type": "code",
      "execution_count": 28,
      "metadata": {
        "execution": {
          "iopub.execute_input": "2023-07-07T19:23:33.544933Z",
          "iopub.status.busy": "2023-07-07T19:23:33.544570Z",
          "iopub.status.idle": "2023-07-07T19:23:33.551788Z",
          "shell.execute_reply": "2023-07-07T19:23:33.550833Z",
          "shell.execute_reply.started": "2023-07-07T19:23:33.544906Z"
        },
        "id": "4aDoEAtnnWw2",
        "trusted": true
      },
      "outputs": [],
      "source": [
        "class Model(tf.keras.Model):\n",
        "    def __init__(self, N_s, N_t):\n",
        "        super(Model, self).__init__()\n",
        "        self.encoder = Encoder(N_s)\n",
        "        self.translator = Translator(N_s, N_t)\n",
        "        self.decoder = Decoder(N_s, N_t)\n",
        "\n",
        "    def call(self, inputs):\n",
        "        encoder_output = self.encoder(inputs)\n",
        "        translator_output = self.translator(encoder_output)\n",
        "        decoder_output = self.decoder(translator_output)\n",
        "\n",
        "        return decoder_output\n"
      ]
    },
    {
      "cell_type": "code",
      "execution_count": 29,
      "metadata": {
        "colab": {
          "base_uri": "https://localhost:8080/"
        },
        "execution": {
          "iopub.execute_input": "2023-07-07T19:23:39.042800Z",
          "iopub.status.busy": "2023-07-07T19:23:39.042407Z",
          "iopub.status.idle": "2023-07-07T19:23:40.091085Z",
          "shell.execute_reply": "2023-07-07T19:23:40.089910Z",
          "shell.execute_reply.started": "2023-07-07T19:23:39.042772Z"
        },
        "id": "FMS3e4CTPHJ5",
        "outputId": "b5d1ef70-c29a-44eb-b98f-178e1cba4492",
        "trusted": true
      },
      "outputs": [
        {
          "name": "stdout",
          "output_type": "stream",
          "text": [
            "Model: \"model_1\"\n",
            "_________________________________________________________________\n",
            " Layer (type)                Output Shape              Param #   \n",
            "=================================================================\n",
            " encoder_3 (Encoder)         multiple                  76032     \n",
            "                                                                 \n",
            " translator_2 (Translator)   multiple                  1168704   \n",
            "                                                                 \n",
            " decoder_2 (Decoder)         multiple                  222337    \n",
            "                                                                 \n",
            "=================================================================\n",
            "Total params: 1,467,073\n",
            "Trainable params: 1,467,073\n",
            "Non-trainable params: 0\n",
            "_________________________________________________________________\n"
          ]
        }
      ],
      "source": [
        "# setting parameters\n",
        "N_s = 3\n",
        "N_t = 3\n",
        "model = Model(N_s, N_t)\n",
        "model.build((None, 64, 64, 3))  # Specifying input shape\n",
        "\n",
        "# Compiling the model and specifying loss function and optimizer\n",
        "model.compile(loss='mse', optimizer='adam')\n",
        "\n",
        "model.summary()"
      ]
    },
    {
      "cell_type": "code",
      "execution_count": 30,
      "metadata": {
        "colab": {
          "base_uri": "https://localhost:8080/"
        },
        "execution": {
          "iopub.execute_input": "2023-07-07T19:24:14.390111Z",
          "iopub.status.busy": "2023-07-07T19:24:14.389250Z",
          "iopub.status.idle": "2023-07-07T19:49:41.466886Z",
          "shell.execute_reply": "2023-07-07T19:49:41.465894Z",
          "shell.execute_reply.started": "2023-07-07T19:24:14.390080Z"
        },
        "id": "_ugJ8E01PKe_",
        "outputId": "d269c95a-704d-4ecf-dada-5b8de9fe7852",
        "trusted": true
      },
      "outputs": [
        {
          "name": "stdout",
          "output_type": "stream",
          "text": [
            "Epoch 1/50\n",
            "250/250 [==============================] - 59s 142ms/step - loss: 0.0295 - val_loss: 0.0187\n",
            "Epoch 2/50\n",
            "250/250 [==============================] - 36s 145ms/step - loss: 0.0171 - val_loss: 0.0153\n",
            "Epoch 3/50\n",
            "250/250 [==============================] - 36s 144ms/step - loss: 0.0147 - val_loss: 0.0140\n",
            "Epoch 4/50\n",
            "250/250 [==============================] - 36s 143ms/step - loss: 0.0135 - val_loss: 0.0128\n",
            "Epoch 5/50\n",
            "250/250 [==============================] - 36s 143ms/step - loss: 0.0126 - val_loss: 0.0123\n",
            "Epoch 6/50\n",
            "250/250 [==============================] - 36s 143ms/step - loss: 0.0119 - val_loss: 0.0114\n",
            "Epoch 7/50\n",
            "250/250 [==============================] - 36s 143ms/step - loss: 0.0110 - val_loss: 0.0113\n",
            "Epoch 8/50\n",
            "250/250 [==============================] - 36s 143ms/step - loss: 0.0106 - val_loss: 0.0106\n",
            "Epoch 9/50\n",
            "250/250 [==============================] - 36s 143ms/step - loss: 0.0100 - val_loss: 0.0099\n",
            "Epoch 10/50\n",
            "250/250 [==============================] - 37s 147ms/step - loss: 0.0098 - val_loss: 0.0094\n",
            "Epoch 11/50\n",
            "250/250 [==============================] - 36s 143ms/step - loss: 0.0095 - val_loss: 0.0097\n",
            "Epoch 12/50\n",
            "250/250 [==============================] - 36s 143ms/step - loss: 0.0094 - val_loss: 0.0092\n",
            "Epoch 13/50\n",
            "250/250 [==============================] - 36s 143ms/step - loss: 0.0092 - val_loss: 0.0091\n",
            "Epoch 14/50\n",
            "250/250 [==============================] - 36s 142ms/step - loss: 0.0090 - val_loss: 0.0090\n",
            "Epoch 15/50\n",
            "250/250 [==============================] - 36s 143ms/step - loss: 0.0089 - val_loss: 0.0090\n",
            "Epoch 16/50\n",
            "250/250 [==============================] - 36s 143ms/step - loss: 0.0088 - val_loss: 0.0090\n",
            "Epoch 17/50\n",
            "250/250 [==============================] - 36s 143ms/step - loss: 0.0088 - val_loss: 0.0088\n",
            "Epoch 18/50\n",
            "250/250 [==============================] - 36s 143ms/step - loss: 0.0085 - val_loss: 0.0084\n",
            "Epoch 19/50\n",
            "250/250 [==============================] - 36s 143ms/step - loss: 0.0084 - val_loss: 0.0085\n",
            "Epoch 20/50\n",
            "250/250 [==============================] - 36s 143ms/step - loss: 0.0084 - val_loss: 0.0084\n",
            "Epoch 21/50\n",
            "250/250 [==============================] - 36s 143ms/step - loss: 0.0081 - val_loss: 0.0084\n",
            "Epoch 22/50\n",
            "250/250 [==============================] - 36s 143ms/step - loss: 0.0082 - val_loss: 0.0084\n",
            "Epoch 23/50\n",
            "250/250 [==============================] - 36s 143ms/step - loss: 0.0081 - val_loss: 0.0081\n",
            "Epoch 24/50\n",
            "250/250 [==============================] - 36s 143ms/step - loss: 0.0081 - val_loss: 0.0083\n",
            "Epoch 25/50\n",
            "250/250 [==============================] - 37s 146ms/step - loss: 0.0080 - val_loss: 0.0080\n",
            "Epoch 26/50\n",
            "250/250 [==============================] - 36s 142ms/step - loss: 0.0079 - val_loss: 0.0081\n",
            "Epoch 27/50\n",
            "250/250 [==============================] - 36s 143ms/step - loss: 0.0079 - val_loss: 0.0082\n",
            "Epoch 28/50\n",
            "250/250 [==============================] - 36s 143ms/step - loss: 0.0078 - val_loss: 0.0079\n",
            "Epoch 29/50\n",
            "250/250 [==============================] - 37s 147ms/step - loss: 0.0078 - val_loss: 0.0078\n",
            "Epoch 30/50\n",
            "250/250 [==============================] - 36s 143ms/step - loss: 0.0076 - val_loss: 0.0080\n",
            "Epoch 31/50\n",
            "250/250 [==============================] - 36s 143ms/step - loss: 0.0077 - val_loss: 0.0076\n",
            "Epoch 32/50\n",
            "250/250 [==============================] - 36s 143ms/step - loss: 0.0076 - val_loss: 0.0078\n",
            "Epoch 33/50\n",
            "250/250 [==============================] - 36s 143ms/step - loss: 0.0075 - val_loss: 0.0081\n",
            "Epoch 34/50\n",
            "250/250 [==============================] - 36s 143ms/step - loss: 0.0076 - val_loss: 0.0077\n",
            "Epoch 35/50\n",
            "250/250 [==============================] - 36s 143ms/step - loss: 0.0075 - val_loss: 0.0075\n",
            "Epoch 36/50\n",
            "250/250 [==============================] - 36s 142ms/step - loss: 0.0074 - val_loss: 0.0077\n",
            "Epoch 37/50\n",
            "250/250 [==============================] - 36s 142ms/step - loss: 0.0074 - val_loss: 0.0077\n",
            "Epoch 38/50\n",
            "250/250 [==============================] - 36s 142ms/step - loss: 0.0074 - val_loss: 0.0077\n",
            "Epoch 39/50\n",
            "250/250 [==============================] - 36s 143ms/step - loss: 0.0074 - val_loss: 0.0074\n",
            "Epoch 40/50\n",
            "250/250 [==============================] - 36s 143ms/step - loss: 0.0073 - val_loss: 0.0079\n",
            "Epoch 41/50\n",
            "250/250 [==============================] - 36s 143ms/step - loss: 0.0073 - val_loss: 0.0073\n",
            "Epoch 42/50\n",
            "250/250 [==============================] - 36s 143ms/step - loss: 0.0072 - val_loss: 0.0077\n",
            "Epoch 43/50\n",
            "250/250 [==============================] - 36s 143ms/step - loss: 0.0072 - val_loss: 0.0071\n",
            "Epoch 44/50\n",
            "250/250 [==============================] - 36s 143ms/step - loss: 0.0072 - val_loss: 0.0074\n",
            "Epoch 45/50\n",
            "250/250 [==============================] - 37s 147ms/step - loss: 0.0072 - val_loss: 0.0074\n",
            "Epoch 46/50\n",
            "250/250 [==============================] - 36s 143ms/step - loss: 0.0071 - val_loss: 0.0073\n",
            "Epoch 47/50\n",
            "250/250 [==============================] - 36s 143ms/step - loss: 0.0071 - val_loss: 0.0076\n",
            "Epoch 48/50\n",
            "250/250 [==============================] - 36s 143ms/step - loss: 0.0070 - val_loss: 0.0074\n",
            "Epoch 49/50\n",
            "250/250 [==============================] - 36s 142ms/step - loss: 0.0071 - val_loss: 0.0074\n",
            "Epoch 50/50\n",
            "250/250 [==============================] - 36s 143ms/step - loss: 0.0070 - val_loss: 0.0075\n"
          ]
        },
        {
          "data": {
            "text/plain": [
              "<keras.callbacks.History at 0x7fdd304520e0>"
            ]
          },
          "execution_count": 30,
          "metadata": {},
          "output_type": "execute_result"
        }
      ],
      "source": [
        "# Train the model\n",
        "steps_per_epoch = len(trainset) // batch\n",
        "validation_steps = len(valset) // batch\n",
        "\n",
        "model.fit(train_gen, steps_per_epoch=steps_per_epoch, epochs=50,\n",
        "          validation_data=val_gen, validation_steps=validation_steps)\n"
      ]
    },
    {
      "cell_type": "code",
      "execution_count": 31,
      "metadata": {
        "execution": {
          "iopub.execute_input": "2023-07-07T19:49:52.535844Z",
          "iopub.status.busy": "2023-07-07T19:49:52.535475Z",
          "iopub.status.idle": "2023-07-07T19:49:52.544777Z",
          "shell.execute_reply": "2023-07-07T19:49:52.542662Z",
          "shell.execute_reply.started": "2023-07-07T19:49:52.535816Z"
        },
        "id": "620_BbvP9ZZH",
        "trusted": true
      },
      "outputs": [],
      "source": [
        "callback = tf.keras.callbacks.EarlyStopping(monitor = 'val_loss', mode = 'min', patience = 5, restore_best_weights = True)"
      ]
    },
    {
      "cell_type": "code",
      "execution_count": 32,
      "metadata": {
        "colab": {
          "base_uri": "https://localhost:8080/"
        },
        "execution": {
          "iopub.execute_input": "2023-07-07T19:49:58.654831Z",
          "iopub.status.busy": "2023-07-07T19:49:58.654462Z",
          "iopub.status.idle": "2023-07-07T20:00:16.344985Z",
          "shell.execute_reply": "2023-07-07T20:00:16.343834Z",
          "shell.execute_reply.started": "2023-07-07T19:49:58.654803Z"
        },
        "id": "9y-eZw0T9ZZH",
        "outputId": "8d92a8a0-a433-43e1-ebd5-0a0f97fa174d",
        "trusted": true
      },
      "outputs": [
        {
          "name": "stdout",
          "output_type": "stream",
          "text": [
            "Epoch 1/50\n",
            "250/250 [==============================] - 37s 147ms/step - loss: 0.0070 - val_loss: 0.0073\n",
            "Epoch 2/50\n",
            "250/250 [==============================] - 36s 143ms/step - loss: 0.0070 - val_loss: 0.0072\n",
            "Epoch 3/50\n",
            "250/250 [==============================] - 36s 142ms/step - loss: 0.0070 - val_loss: 0.0071\n",
            "Epoch 4/50\n",
            "250/250 [==============================] - 36s 143ms/step - loss: 0.0069 - val_loss: 0.0076\n",
            "Epoch 5/50\n",
            "250/250 [==============================] - 36s 143ms/step - loss: 0.0069 - val_loss: 0.0075\n",
            "Epoch 6/50\n",
            "250/250 [==============================] - 36s 143ms/step - loss: 0.0069 - val_loss: 0.0072\n",
            "Epoch 7/50\n",
            "250/250 [==============================] - 36s 143ms/step - loss: 0.0069 - val_loss: 0.0071\n",
            "Epoch 8/50\n",
            "250/250 [==============================] - 36s 143ms/step - loss: 0.0068 - val_loss: 0.0070\n",
            "Epoch 9/50\n",
            "250/250 [==============================] - 36s 142ms/step - loss: 0.0068 - val_loss: 0.0072\n",
            "Epoch 10/50\n",
            "250/250 [==============================] - 36s 143ms/step - loss: 0.0069 - val_loss: 0.0073\n",
            "Epoch 11/50\n",
            "250/250 [==============================] - 36s 143ms/step - loss: 0.0067 - val_loss: 0.0070\n",
            "Epoch 12/50\n",
            "250/250 [==============================] - 36s 143ms/step - loss: 0.0067 - val_loss: 0.0072\n",
            "Epoch 13/50\n",
            "250/250 [==============================] - 36s 143ms/step - loss: 0.0068 - val_loss: 0.0070\n",
            "Epoch 14/50\n",
            "250/250 [==============================] - 36s 142ms/step - loss: 0.0067 - val_loss: 0.0071\n",
            "Epoch 15/50\n",
            "250/250 [==============================] - 37s 146ms/step - loss: 0.0067 - val_loss: 0.0069\n",
            "Epoch 16/50\n",
            "250/250 [==============================] - 37s 146ms/step - loss: 0.0066 - val_loss: 0.0071\n",
            "Epoch 17/50\n",
            "250/250 [==============================] - 37s 146ms/step - loss: 0.0066 - val_loss: 0.0071\n",
            "Epoch 18/50\n",
            "250/250 [==============================] - 37s 146ms/step - loss: 0.0066 - val_loss: 0.0071\n",
            "Epoch 19/50\n",
            "250/250 [==============================] - 36s 143ms/step - loss: 0.0067 - val_loss: 0.0070\n",
            "Epoch 20/50\n",
            "250/250 [==============================] - 36s 143ms/step - loss: 0.0066 - val_loss: 0.0069\n"
          ]
        },
        {
          "data": {
            "text/plain": [
              "<keras.callbacks.History at 0x7fdd314bfa00>"
            ]
          },
          "execution_count": 32,
          "metadata": {},
          "output_type": "execute_result"
        }
      ],
      "source": [
        "model.fit(train_gen, steps_per_epoch=steps_per_epoch, epochs=50,\n",
        "          validation_data=val_gen, validation_steps=validation_steps,callbacks=[callback])"
      ]
    },
    {
      "cell_type": "markdown",
      "metadata": {
        "id": "cij4b9t89dPh"
      },
      "source": [
        "## Evaluation"
      ]
    },
    {
      "cell_type": "code",
      "execution_count": 42,
      "metadata": {
        "colab": {
          "base_uri": "https://localhost:8080/"
        },
        "execution": {
          "iopub.execute_input": "2023-07-07T20:00:36.458897Z",
          "iopub.status.busy": "2023-07-07T20:00:36.458496Z",
          "iopub.status.idle": "2023-07-07T20:01:23.208771Z",
          "shell.execute_reply": "2023-07-07T20:01:23.207520Z",
          "shell.execute_reply.started": "2023-07-07T20:00:36.458866Z"
        },
        "id": "_SOQbpSkcpg6",
        "outputId": "58b1f752-dd10-40d1-f4e6-2e8dc9b3ba95",
        "trusted": true
      },
      "outputs": [
        {
          "name": "stdout",
          "output_type": "stream",
          "text": [
            "31/31 [==============================] - 2s 55ms/step - loss: 0.0068\n",
            "Evaluation result: 0.006820532027631998\n"
          ]
        }
      ],
      "source": [
        "# Evaluating on the validation set\n",
        "evaluation_val_result = model.evaluate(val_gen, steps=validation_steps)\n",
        "print(\"Evaluation result:\", evaluation_val_result)"
      ]
    },
    {
      "cell_type": "code",
      "execution_count": 44,
      "metadata": {
        "colab": {
          "base_uri": "https://localhost:8080/"
        },
        "id": "PuhtsQz66_SQ",
        "outputId": "7dd1d801-1eac-40ce-8fca-1b1b9454ab96"
      },
      "outputs": [
        {
          "name": "stdout",
          "output_type": "stream",
          "text": [
            "31/31 [==============================] - 2s 54ms/step - loss: 0.0067\n",
            "Evaluation result: 0.0067483289167284966\n"
          ]
        }
      ],
      "source": [
        "# Evaluating on the test set\n",
        "test_steps = len(testset) // batch  # Number of steps to cover the entire test set\n",
        "evaluation_test_result = model.evaluate(test_gen, steps=test_steps)\n",
        "print(\"Evaluation result:\", evaluation_test_result)"
      ]
    },
    {
      "cell_type": "markdown",
      "metadata": {
        "id": "rzWoRXnK7vQF"
      },
      "source": [
        "## Visualization and comparison of predicted image on a single sample"
      ]
    },
    {
      "cell_type": "code",
      "execution_count": 34,
      "metadata": {
        "colab": {
          "base_uri": "https://localhost:8080/"
        },
        "execution": {
          "iopub.execute_input": "2023-07-07T20:01:29.324866Z",
          "iopub.status.busy": "2023-07-07T20:01:29.324494Z",
          "iopub.status.idle": "2023-07-07T20:01:29.341245Z",
          "shell.execute_reply": "2023-07-07T20:01:29.340111Z",
          "shell.execute_reply.started": "2023-07-07T20:01:29.324836Z"
        },
        "id": "HiGMzMavk5wS",
        "outputId": "83edc9ea-bd22-4532-9e86-5aad539186fe",
        "trusted": true
      },
      "outputs": [
        {
          "data": {
            "text/plain": [
              "((32, 64, 64, 3), (32, 64, 64, 1))"
            ]
          },
          "execution_count": 34,
          "metadata": {},
          "output_type": "execute_result"
        }
      ],
      "source": [
        "sample = next(test_gen)\n",
        "sample_x, sample_y = sample\n",
        "sample_x.shape, sample_y.shape"
      ]
    },
    {
      "cell_type": "code",
      "execution_count": 36,
      "metadata": {
        "colab": {
          "base_uri": "https://localhost:8080/"
        },
        "execution": {
          "iopub.execute_input": "2023-07-07T20:02:00.289670Z",
          "iopub.status.busy": "2023-07-07T20:02:00.288662Z",
          "iopub.status.idle": "2023-07-07T20:02:00.918432Z",
          "shell.execute_reply": "2023-07-07T20:02:00.917511Z",
          "shell.execute_reply.started": "2023-07-07T20:02:00.289626Z"
        },
        "id": "V9qpY1MYisek",
        "outputId": "29d274a4-f97b-42a3-e476-9d98bae077d1",
        "trusted": true
      },
      "outputs": [
        {
          "name": "stdout",
          "output_type": "stream",
          "text": [
            "1/1 [==============================] - 1s 513ms/step\n"
          ]
        },
        {
          "data": {
            "text/plain": [
              "(32, 64, 64, 1)"
            ]
          },
          "execution_count": 36,
          "metadata": {},
          "output_type": "execute_result"
        }
      ],
      "source": [
        "# Predicting on a sample of the test set\n",
        "predictions = model.predict(sample_x, steps=1)\n",
        "predictions.shape"
      ]
    },
    {
      "cell_type": "code",
      "execution_count": 37,
      "metadata": {
        "colab": {
          "base_uri": "https://localhost:8080/",
          "height": 268
        },
        "execution": {
          "iopub.execute_input": "2023-07-07T20:02:11.106713Z",
          "iopub.status.busy": "2023-07-07T20:02:11.106342Z",
          "iopub.status.idle": "2023-07-07T20:02:11.764921Z",
          "shell.execute_reply": "2023-07-07T20:02:11.764005Z",
          "shell.execute_reply.started": "2023-07-07T20:02:11.106686Z"
        },
        "id": "v09vOCf-kFax",
        "outputId": "952fb2bf-f153-4517-ae7f-dac801f890c3",
        "trusted": true
      },
      "outputs": [
        {
          "data": {
            "image/png": "[encoded data removed]",
            "text/plain": [
              "<Figure size 1000x4000 with 4 Axes>"
            ]
          },
          "metadata": {},
          "output_type": "display_data"
        }
      ],
      "source": [
        "# visualization of the original frame with respect to 3 previous frames\n",
        "all = [sample_x[0,:,:,i] for i in range(3)]+[sample_y[0,:,:,0]]\n",
        "show_list(all)"
      ]
    },
    {
      "cell_type": "code",
      "execution_count": 38,
      "metadata": {
        "colab": {
          "base_uri": "https://localhost:8080/",
          "height": 268
        },
        "execution": {
          "iopub.execute_input": "2023-07-07T20:02:15.626430Z",
          "iopub.status.busy": "2023-07-07T20:02:15.625301Z",
          "iopub.status.idle": "2023-07-07T20:02:16.262882Z",
          "shell.execute_reply": "2023-07-07T20:02:16.261942Z",
          "shell.execute_reply.started": "2023-07-07T20:02:15.626389Z"
        },
        "id": "8B6Op7AVmCkJ",
        "outputId": "e7160b0f-ba6a-4536-cc16-c604f34f6356",
        "trusted": true
      },
      "outputs": [
        {
          "data": {
            "image/png": "[encoded data removed]",
            "text/plain": [
              "<Figure size 1000x4000 with 4 Axes>"
            ]
          },
          "metadata": {},
          "output_type": "display_data"
        }
      ],
      "source": [
        "# visualization of the predicted frame with respect to 3 previous frames\n",
        "all = [sample_x[0,:,:,i] for i in range(3)]+[predictions[0,:,:,0]]\n",
        "show_list(all)"
      ]
    },
    {
      "cell_type": "code",
      "execution_count": 39,
      "metadata": {
        "colab": {
          "base_uri": "https://localhost:8080/"
        },
        "execution": {
          "iopub.execute_input": "2023-07-07T20:02:21.705645Z",
          "iopub.status.busy": "2023-07-07T20:02:21.705282Z",
          "iopub.status.idle": "2023-07-07T20:02:21.712933Z",
          "shell.execute_reply": "2023-07-07T20:02:21.711645Z",
          "shell.execute_reply.started": "2023-07-07T20:02:21.705616Z"
        },
        "id": "AslwSR43mIHC",
        "outputId": "68c086b8-e1ec-4685-ec40-9389ebb6f317",
        "trusted": true
      },
      "outputs": [
        {
          "name": "stdout",
          "output_type": "stream",
          "text": [
            "Mean Squared Error (MSE): 0.004964037114574194\n"
          ]
        }
      ],
      "source": [
        "# Calculating the squared difference between original and predicted frame\n",
        "squared_diff = np.square(sample_y[0,:,:,0] - predictions[0,:,:,0])\n",
        "\n",
        "# Calculating the mean squared error\n",
        "mse = np.mean(squared_diff)\n",
        "\n",
        "print(\"Mean Squared Error (MSE):\", mse)"
      ]
    },
    {
      "cell_type": "markdown",
      "metadata": {
        "id": "eVSOP7OI6mEC"
      },
      "source": [
        "## Testing on the entire Test set"
      ]
    },
    {
      "cell_type": "code",
      "execution_count": 48,
      "metadata": {
        "colab": {
          "base_uri": "https://localhost:8080/"
        },
        "execution": {
          "iopub.execute_input": "2023-07-07T20:02:55.309682Z",
          "iopub.status.busy": "2023-07-07T20:02:55.309301Z",
          "iopub.status.idle": "2023-07-07T20:02:59.790482Z",
          "shell.execute_reply": "2023-07-07T20:02:59.789439Z",
          "shell.execute_reply.started": "2023-07-07T20:02:55.309653Z"
        },
        "id": "-stFDOMkOs4l",
        "outputId": "a31bf9e2-090b-45bb-b889-a12c839ee3b6",
        "trusted": true
      },
      "outputs": [
        {
          "name": "stderr",
          "output_type": "stream",
          "text": [
            "\n",
            "0it [00:00, ?it/s]\u001b[A"
          ]
        },
        {
          "name": "stdout",
          "output_type": "stream",
          "text": [
            "1/1 [==============================] - 0s 21ms/step\n"
          ]
        },
        {
          "name": "stderr",
          "output_type": "stream",
          "text": [
            "\n",
            "1it [00:00,  5.09it/s]\u001b[A"
          ]
        },
        {
          "name": "stdout",
          "output_type": "stream",
          "text": [
            "1/1 [==============================] - 0s 21ms/step\n"
          ]
        },
        {
          "name": "stderr",
          "output_type": "stream",
          "text": [
            "\n",
            "2it [00:00,  6.10it/s]\u001b[A"
          ]
        },
        {
          "name": "stdout",
          "output_type": "stream",
          "text": [
            "1/1 [==============================] - 0s 22ms/step\n"
          ]
        },
        {
          "name": "stderr",
          "output_type": "stream",
          "text": [
            "\n",
            "3it [00:00,  6.37it/s]\u001b[A"
          ]
        },
        {
          "name": "stdout",
          "output_type": "stream",
          "text": [
            "1/1 [==============================] - 0s 21ms/step\n"
          ]
        },
        {
          "name": "stderr",
          "output_type": "stream",
          "text": [
            "\n",
            "4it [00:00,  7.02it/s]\u001b[A"
          ]
        },
        {
          "name": "stdout",
          "output_type": "stream",
          "text": [
            "1/1 [==============================] - 0s 21ms/step\n"
          ]
        },
        {
          "name": "stderr",
          "output_type": "stream",
          "text": [
            "\n",
            "5it [00:00,  7.48it/s]\u001b[A"
          ]
        },
        {
          "name": "stdout",
          "output_type": "stream",
          "text": [
            "1/1 [==============================] - 0s 21ms/step\n"
          ]
        },
        {
          "name": "stderr",
          "output_type": "stream",
          "text": [
            "\n",
            "6it [00:00,  7.79it/s]\u001b[A"
          ]
        },
        {
          "name": "stdout",
          "output_type": "stream",
          "text": [
            "1/1 [==============================] - 0s 21ms/step\n"
          ]
        },
        {
          "name": "stderr",
          "output_type": "stream",
          "text": [
            "\n",
            "7it [00:00,  7.96it/s]\u001b[A"
          ]
        },
        {
          "name": "stdout",
          "output_type": "stream",
          "text": [
            "1/1 [==============================] - 0s 20ms/step\n"
          ]
        },
        {
          "name": "stderr",
          "output_type": "stream",
          "text": [
            "\n",
            "8it [00:01,  8.24it/s]\u001b[A"
          ]
        },
        {
          "name": "stdout",
          "output_type": "stream",
          "text": [
            "1/1 [==============================] - 0s 21ms/step\n"
          ]
        },
        {
          "name": "stderr",
          "output_type": "stream",
          "text": [
            "\n",
            "9it [00:01,  8.24it/s]\u001b[A"
          ]
        },
        {
          "name": "stdout",
          "output_type": "stream",
          "text": [
            "1/1 [==============================] - 0s 20ms/step\n"
          ]
        },
        {
          "name": "stderr",
          "output_type": "stream",
          "text": [
            "\n",
            "10it [00:01,  8.62it/s]\u001b[A"
          ]
        },
        {
          "name": "stdout",
          "output_type": "stream",
          "text": [
            "1/1 [==============================] - 0s 23ms/step\n"
          ]
        },
        {
          "name": "stderr",
          "output_type": "stream",
          "text": [
            "\n",
            "11it [00:01,  8.49it/s]\u001b[A"
          ]
        },
        {
          "name": "stdout",
          "output_type": "stream",
          "text": [
            "1/1 [==============================] - 0s 20ms/step\n"
          ]
        },
        {
          "name": "stderr",
          "output_type": "stream",
          "text": [
            "\n",
            "12it [00:01,  8.46it/s]\u001b[A"
          ]
        },
        {
          "name": "stdout",
          "output_type": "stream",
          "text": [
            "1/1 [==============================] - 0s 21ms/step\n"
          ]
        },
        {
          "name": "stderr",
          "output_type": "stream",
          "text": [
            "\n",
            "13it [00:01,  8.66it/s]\u001b[A"
          ]
        },
        {
          "name": "stdout",
          "output_type": "stream",
          "text": [
            "1/1 [==============================] - 0s 21ms/step\n"
          ]
        },
        {
          "name": "stderr",
          "output_type": "stream",
          "text": [
            "\n",
            "14it [00:01,  8.91it/s]\u001b[A"
          ]
        },
        {
          "name": "stdout",
          "output_type": "stream",
          "text": [
            "1/1 [==============================] - 0s 29ms/step\n"
          ]
        },
        {
          "name": "stderr",
          "output_type": "stream",
          "text": [
            "\n",
            "15it [00:01,  8.59it/s]\u001b[A"
          ]
        },
        {
          "name": "stdout",
          "output_type": "stream",
          "text": [
            "1/1 [==============================] - 0s 20ms/step\n"
          ]
        },
        {
          "name": "stderr",
          "output_type": "stream",
          "text": [
            "\n",
            "16it [00:01,  8.88it/s]\u001b[A"
          ]
        },
        {
          "name": "stdout",
          "output_type": "stream",
          "text": [
            "1/1 [==============================] - 0s 22ms/step\n"
          ]
        },
        {
          "name": "stderr",
          "output_type": "stream",
          "text": [
            "\n",
            "17it [00:02,  9.04it/s]\u001b[A"
          ]
        },
        {
          "name": "stdout",
          "output_type": "stream",
          "text": [
            "1/1 [==============================] - 0s 22ms/step\n"
          ]
        },
        {
          "name": "stderr",
          "output_type": "stream",
          "text": [
            "\n",
            "18it [00:02,  9.11it/s]\u001b[A"
          ]
        },
        {
          "name": "stdout",
          "output_type": "stream",
          "text": [
            "1/1 [==============================] - 0s 20ms/step\n"
          ]
        },
        {
          "name": "stderr",
          "output_type": "stream",
          "text": [
            "\n",
            "19it [00:02,  9.21it/s]\u001b[A"
          ]
        },
        {
          "name": "stdout",
          "output_type": "stream",
          "text": [
            "1/1 [==============================] - 0s 22ms/step\n"
          ]
        },
        {
          "name": "stderr",
          "output_type": "stream",
          "text": [
            "\n",
            "20it [00:02,  8.75it/s]\u001b[A"
          ]
        },
        {
          "name": "stdout",
          "output_type": "stream",
          "text": [
            "1/1 [==============================] - 0s 21ms/step\n"
          ]
        },
        {
          "name": "stderr",
          "output_type": "stream",
          "text": [
            "\n",
            "21it [00:02,  9.00it/s]\u001b[A"
          ]
        },
        {
          "name": "stdout",
          "output_type": "stream",
          "text": [
            "1/1 [==============================] - 0s 21ms/step\n"
          ]
        },
        {
          "name": "stderr",
          "output_type": "stream",
          "text": [
            "\n",
            "22it [00:02,  8.52it/s]\u001b[A"
          ]
        },
        {
          "name": "stdout",
          "output_type": "stream",
          "text": [
            "1/1 [==============================] - 0s 22ms/step\n"
          ]
        },
        {
          "name": "stderr",
          "output_type": "stream",
          "text": [
            "\n",
            "23it [00:02,  8.46it/s]\u001b[A"
          ]
        },
        {
          "name": "stdout",
          "output_type": "stream",
          "text": [
            "1/1 [==============================] - 0s 26ms/step\n"
          ]
        },
        {
          "name": "stderr",
          "output_type": "stream",
          "text": [
            "\n",
            "24it [00:02,  8.64it/s]\u001b[A"
          ]
        },
        {
          "name": "stdout",
          "output_type": "stream",
          "text": [
            "1/1 [==============================] - 0s 26ms/step\n"
          ]
        },
        {
          "name": "stderr",
          "output_type": "stream",
          "text": [
            "\n",
            "25it [00:03,  8.48it/s]\u001b[A"
          ]
        },
        {
          "name": "stdout",
          "output_type": "stream",
          "text": [
            "1/1 [==============================] - 0s 22ms/step\n"
          ]
        },
        {
          "name": "stderr",
          "output_type": "stream",
          "text": [
            "\n",
            "26it [00:03,  8.28it/s]\u001b[A"
          ]
        },
        {
          "name": "stdout",
          "output_type": "stream",
          "text": [
            "1/1 [==============================] - 0s 21ms/step\n"
          ]
        },
        {
          "name": "stderr",
          "output_type": "stream",
          "text": [
            "\n",
            "27it [00:03,  8.37it/s]\u001b[A"
          ]
        },
        {
          "name": "stdout",
          "output_type": "stream",
          "text": [
            "1/1 [==============================] - 0s 21ms/step\n"
          ]
        },
        {
          "name": "stderr",
          "output_type": "stream",
          "text": [
            "\n",
            "28it [00:03,  8.44it/s]\u001b[A"
          ]
        },
        {
          "name": "stdout",
          "output_type": "stream",
          "text": [
            "1/1 [==============================] - 0s 22ms/step\n"
          ]
        },
        {
          "name": "stderr",
          "output_type": "stream",
          "text": [
            "\n",
            "29it [00:03,  8.73it/s]\u001b[A"
          ]
        },
        {
          "name": "stdout",
          "output_type": "stream",
          "text": [
            "1/1 [==============================] - 0s 23ms/step\n"
          ]
        },
        {
          "name": "stderr",
          "output_type": "stream",
          "text": [
            "\n",
            "30it [00:03,  8.58it/s]\u001b[A"
          ]
        },
        {
          "name": "stdout",
          "output_type": "stream",
          "text": [
            "1/1 [==============================] - 0s 22ms/step\n"
          ]
        },
        {
          "name": "stderr",
          "output_type": "stream",
          "text": [
            "\n",
            "31it [00:03,  8.88it/s]\u001b[A"
          ]
        },
        {
          "name": "stdout",
          "output_type": "stream",
          "text": [
            "1/1 [==============================] - 0s 22ms/step\n"
          ]
        },
        {
          "name": "stderr",
          "output_type": "stream",
          "text": [
            "\r31it [00:03,  8.07it/s]"
          ]
        },
        {
          "name": "stdout",
          "output_type": "stream",
          "text": [
            "\n",
            "\n",
            "\n",
            "Average score: 0.0068637147267620\n"
          ]
        },
        {
          "name": "stderr",
          "output_type": "stream",
          "text": [
            "\n"
          ]
        }
      ],
      "source": [
        "from tqdm import tqdm\n",
        "\n",
        "total_data_points = len(testset)\n",
        "\n",
        "mse_total = 0.0\n",
        "num_images = 0\n",
        "\n",
        "num_batches = (total_data_points + batch - 1) // batch\n",
        "\n",
        "# Initializing a counter variable\n",
        "batch_count = 0\n",
        "\n",
        "for batch_x, batch_y in tqdm(test_gen):\n",
        "    # Predicting the images using the model\n",
        "    predictions = model.predict(batch_x)\n",
        "\n",
        "    # Calculating squared differences for the entire batch\n",
        "    squared_diff = np.square(batch_y - predictions)\n",
        "\n",
        "    # Calculating the mean squared error\n",
        "    batch_mse = np.mean(squared_diff)\n",
        "\n",
        "    # Accumulating MSE and count the number of images\n",
        "    mse_total += batch_mse * batch_x.shape[0]\n",
        "    num_images += batch_x.shape[0]\n",
        "\n",
        "    # Incrementing the batch count\n",
        "    batch_count += 1\n",
        "\n",
        "    # Checking if the desired number of batches has been reached\n",
        "    if batch_count >= num_batches:\n",
        "        break\n",
        "\n",
        "# Calculating average MSE\n",
        "average_mse = mse_total / num_images\n",
        "\n",
        "print(\"\\n\\n\")\n",
        "print(f\"Average score: {average_mse:.16f}\")"
      ]
    },
    {
      "cell_type": "code",
      "execution_count": null,
      "metadata": {
        "id": "3Gkh2tFc9ZZO"
      },
      "outputs": [],
      "source": []
    }
  ],
  "metadata": {
    "accelerator": "GPU",
    "colab": {
      "gpuType": "T4",
      "provenance": []
    },
    "kernelspec": {
      "display_name": "Python 3",
      "name": "python3"
    },
    "language_info": {
      "codemirror_mode": {
        "name": "ipython",
        "version": 3
      },
      "file_extension": ".py",
      "mimetype": "text/x-python",
      "name": "python",
      "nbconvert_exporter": "python",
      "pygments_lexer": "ipython3",
      "version": "3.10.10"
    },
    "widgets": {
      "application/vnd.jupyter.widget-state+json": {
        "0a111031ed16459b901676aa6b61c859": {
          "model_module": "@jupyter-widgets/base",
          "model_module_version": "1.2.0",
          "model_name": "LayoutModel",
          "state": {
            "_model_module": "@jupyter-widgets/base",
            "_model_module_version": "1.2.0",
            "_model_name": "LayoutModel",
            "_view_count": null,
            "_view_module": "@jupyter-widgets/base",
            "_view_module_version": "1.2.0",
            "_view_name": "LayoutView",
            "align_content": null,
            "align_items": null,
            "align_self": null,
            "border": null,
            "bottom": null,
            "display": null,
            "flex": null,
            "flex_flow": null,
            "grid_area": null,
            "grid_auto_columns": null,
            "grid_auto_flow": null,
            "grid_auto_rows": null,
            "grid_column": null,
            "grid_gap": null,
            "grid_row": null,
            "grid_template_areas": null,
            "grid_template_columns": null,
            "grid_template_rows": null,
            "height": null,
            "justify_content": null,
            "justify_items": null,
            "left": null,
            "margin": null,
            "max_height": null,
            "max_width": null,
            "min_height": null,
            "min_width": null,
            "object_fit": null,
            "object_position": null,
            "order": null,
            "overflow": null,
            "overflow_x": null,
            "overflow_y": null,
            "padding": null,
            "right": null,
            "top": null,
            "visibility": null,
            "width": null
          }
        },
        "0e576feb156641b69729d5c85974fa31": {
          "model_module": "@jupyter-widgets/base",
          "model_module_version": "1.2.0",
          "model_name": "LayoutModel",
          "state": {
            "_model_module": "@jupyter-widgets/base",
            "_model_module_version": "1.2.0",
            "_model_name": "LayoutModel",
            "_view_count": null,
            "_view_module": "@jupyter-widgets/base",
            "_view_module_version": "1.2.0",
            "_view_name": "LayoutView",
            "align_content": null,
            "align_items": null,
            "align_self": null,
            "border": null,
            "bottom": null,
            "display": null,
            "flex": null,
            "flex_flow": null,
            "grid_area": null,
            "grid_auto_columns": null,
            "grid_auto_flow": null,
            "grid_auto_rows": null,
            "grid_column": null,
            "grid_gap": null,
            "grid_row": null,
            "grid_template_areas": null,
            "grid_template_columns": null,
            "grid_template_rows": null,
            "height": null,
            "justify_content": null,
            "justify_items": null,
            "left": null,
            "margin": null,
            "max_height": null,
            "max_width": null,
            "min_height": null,
            "min_width": null,
            "object_fit": null,
            "object_position": null,
            "order": null,
            "overflow": null,
            "overflow_x": null,
            "overflow_y": null,
            "padding": null,
            "right": null,
            "top": null,
            "visibility": null,
            "width": null
          }
        },
        "1052c87d727748c4a136d53d118601da": {
          "model_module": "@jupyter-widgets/controls",
          "model_module_version": "1.5.0",
          "model_name": "ProgressStyleModel",
          "state": {
            "_model_module": "@jupyter-widgets/controls",
            "_model_module_version": "1.5.0",
            "_model_name": "ProgressStyleModel",
            "_view_count": null,
            "_view_module": "@jupyter-widgets/base",
            "_view_module_version": "1.2.0",
            "_view_name": "StyleView",
            "bar_color": null,
            "description_width": ""
          }
        },
        "17358b901317448fa080dd1f57be63e9": {
          "model_module": "@jupyter-widgets/controls",
          "model_module_version": "1.5.0",
          "model_name": "ProgressStyleModel",
          "state": {
            "_model_module": "@jupyter-widgets/controls",
            "_model_module_version": "1.5.0",
            "_model_name": "ProgressStyleModel",
            "_view_count": null,
            "_view_module": "@jupyter-widgets/base",
            "_view_module_version": "1.2.0",
            "_view_name": "StyleView",
            "bar_color": null,
            "description_width": ""
          }
        },
        "203a9839ad7f43bcb92668b6e4040593": {
          "model_module": "@jupyter-widgets/base",
          "model_module_version": "1.2.0",
          "model_name": "LayoutModel",
          "state": {
            "_model_module": "@jupyter-widgets/base",
            "_model_module_version": "1.2.0",
            "_model_name": "LayoutModel",
            "_view_count": null,
            "_view_module": "@jupyter-widgets/base",
            "_view_module_version": "1.2.0",
            "_view_name": "LayoutView",
            "align_content": null,
            "align_items": null,
            "align_self": null,
            "border": null,
            "bottom": null,
            "display": null,
            "flex": null,
            "flex_flow": null,
            "grid_area": null,
            "grid_auto_columns": null,
            "grid_auto_flow": null,
            "grid_auto_rows": null,
            "grid_column": null,
            "grid_gap": null,
            "grid_row": null,
            "grid_template_areas": null,
            "grid_template_columns": null,
            "grid_template_rows": null,
            "height": null,
            "justify_content": null,
            "justify_items": null,
            "left": null,
            "margin": null,
            "max_height": null,
            "max_width": null,
            "min_height": null,
            "min_width": null,
            "object_fit": null,
            "object_position": null,
            "order": null,
            "overflow": null,
            "overflow_x": null,
            "overflow_y": null,
            "padding": null,
            "right": null,
            "top": null,
            "visibility": null,
            "width": "20px"
          }
        },
        "20bb977a0712452b85e09e5f3f84aa12": {
          "model_module": "@jupyter-widgets/controls",
          "model_module_version": "1.5.0",
          "model_name": "DescriptionStyleModel",
          "state": {
            "_model_module": "@jupyter-widgets/controls",
            "_model_module_version": "1.5.0",
            "_model_name": "DescriptionStyleModel",
            "_view_count": null,
            "_view_module": "@jupyter-widgets/base",
            "_view_module_version": "1.2.0",
            "_view_name": "StyleView",
            "description_width": ""
          }
        },
        "28c7bb36bc95450596c677872aaca04e": {
          "model_module": "@jupyter-widgets/controls",
          "model_module_version": "1.5.0",
          "model_name": "DescriptionStyleModel",
          "state": {
            "_model_module": "@jupyter-widgets/controls",
            "_model_module_version": "1.5.0",
            "_model_name": "DescriptionStyleModel",
            "_view_count": null,
            "_view_module": "@jupyter-widgets/base",
            "_view_module_version": "1.2.0",
            "_view_name": "StyleView",
            "description_width": ""
          }
        },
        "2c2f8c708b7547529b96f7b876521976": {
          "model_module": "@jupyter-widgets/controls",
          "model_module_version": "1.5.0",
          "model_name": "HBoxModel",
          "state": {
            "_dom_classes": [],
            "_model_module": "@jupyter-widgets/controls",
            "_model_module_version": "1.5.0",
            "_model_name": "HBoxModel",
            "_view_count": null,
            "_view_module": "@jupyter-widgets/controls",
            "_view_module_version": "1.5.0",
            "_view_name": "HBoxView",
            "box_style": "",
            "children": [
              "IPY_MODEL_88963041d8cb4f66bafc9b76116d445d",
              "IPY_MODEL_aff48e758968499e8e56554734bc01f8",
              "IPY_MODEL_9b071fefa7fd435092604381d519d71b"
            ],
            "layout": "IPY_MODEL_0e576feb156641b69729d5c85974fa31"
          }
        },
        "2cccd43a5e5445ac97ba8899ec228ac7": {
          "model_module": "@jupyter-widgets/base",
          "model_module_version": "1.2.0",
          "model_name": "LayoutModel",
          "state": {
            "_model_module": "@jupyter-widgets/base",
            "_model_module_version": "1.2.0",
            "_model_name": "LayoutModel",
            "_view_count": null,
            "_view_module": "@jupyter-widgets/base",
            "_view_module_version": "1.2.0",
            "_view_name": "LayoutView",
            "align_content": null,
            "align_items": null,
            "align_self": null,
            "border": null,
            "bottom": null,
            "display": null,
            "flex": null,
            "flex_flow": null,
            "grid_area": null,
            "grid_auto_columns": null,
            "grid_auto_flow": null,
            "grid_auto_rows": null,
            "grid_column": null,
            "grid_gap": null,
            "grid_row": null,
            "grid_template_areas": null,
            "grid_template_columns": null,
            "grid_template_rows": null,
            "height": null,
            "justify_content": null,
            "justify_items": null,
            "left": null,
            "margin": null,
            "max_height": null,
            "max_width": null,
            "min_height": null,
            "min_width": null,
            "object_fit": null,
            "object_position": null,
            "order": null,
            "overflow": null,
            "overflow_x": null,
            "overflow_y": null,
            "padding": null,
            "right": null,
            "top": null,
            "visibility": null,
            "width": "20px"
          }
        },
        "3532fd69f0d64fe980f323fdc495179d": {
          "model_module": "@jupyter-widgets/base",
          "model_module_version": "1.2.0",
          "model_name": "LayoutModel",
          "state": {
            "_model_module": "@jupyter-widgets/base",
            "_model_module_version": "1.2.0",
            "_model_name": "LayoutModel",
            "_view_count": null,
            "_view_module": "@jupyter-widgets/base",
            "_view_module_version": "1.2.0",
            "_view_name": "LayoutView",
            "align_content": null,
            "align_items": null,
            "align_self": null,
            "border": null,
            "bottom": null,
            "display": null,
            "flex": null,
            "flex_flow": null,
            "grid_area": null,
            "grid_auto_columns": null,
            "grid_auto_flow": null,
            "grid_auto_rows": null,
            "grid_column": null,
            "grid_gap": null,
            "grid_row": null,
            "grid_template_areas": null,
            "grid_template_columns": null,
            "grid_template_rows": null,
            "height": null,
            "justify_content": null,
            "justify_items": null,
            "left": null,
            "margin": null,
            "max_height": null,
            "max_width": null,
            "min_height": null,
            "min_width": null,
            "object_fit": null,
            "object_position": null,
            "order": null,
            "overflow": null,
            "overflow_x": null,
            "overflow_y": null,
            "padding": null,
            "right": null,
            "top": null,
            "visibility": null,
            "width": null
          }
        },
        "402df473d5f54bed9e2e2fbe415a429a": {
          "model_module": "@jupyter-widgets/base",
          "model_module_version": "1.2.0",
          "model_name": "LayoutModel",
          "state": {
            "_model_module": "@jupyter-widgets/base",
            "_model_module_version": "1.2.0",
            "_model_name": "LayoutModel",
            "_view_count": null,
            "_view_module": "@jupyter-widgets/base",
            "_view_module_version": "1.2.0",
            "_view_name": "LayoutView",
            "align_content": null,
            "align_items": null,
            "align_self": null,
            "border": null,
            "bottom": null,
            "display": null,
            "flex": null,
            "flex_flow": null,
            "grid_area": null,
            "grid_auto_columns": null,
            "grid_auto_flow": null,
            "grid_auto_rows": null,
            "grid_column": null,
            "grid_gap": null,
            "grid_row": null,
            "grid_template_areas": null,
            "grid_template_columns": null,
            "grid_template_rows": null,
            "height": null,
            "justify_content": null,
            "justify_items": null,
            "left": null,
            "margin": null,
            "max_height": null,
            "max_width": null,
            "min_height": null,
            "min_width": null,
            "object_fit": null,
            "object_position": null,
            "order": null,
            "overflow": null,
            "overflow_x": null,
            "overflow_y": null,
            "padding": null,
            "right": null,
            "top": null,
            "visibility": null,
            "width": null
          }
        },
        "497477e241b041a48a36fb71bd9fe0ef": {
          "model_module": "@jupyter-widgets/controls",
          "model_module_version": "1.5.0",
          "model_name": "HBoxModel",
          "state": {
            "_dom_classes": [],
            "_model_module": "@jupyter-widgets/controls",
            "_model_module_version": "1.5.0",
            "_model_name": "HBoxModel",
            "_view_count": null,
            "_view_module": "@jupyter-widgets/controls",
            "_view_module_version": "1.5.0",
            "_view_name": "HBoxView",
            "box_style": "",
            "children": [
              "IPY_MODEL_b4fd02f0839f48298227707438e3a583",
              "IPY_MODEL_d230c964cb6148c38063a91e0956cb3d",
              "IPY_MODEL_49cb99a82e614f1790fae0cd0be0fb12"
            ],
            "layout": "IPY_MODEL_eca2594302504aa58d9e4976056eebd1"
          }
        },
        "49cb99a82e614f1790fae0cd0be0fb12": {
          "model_module": "@jupyter-widgets/controls",
          "model_module_version": "1.5.0",
          "model_name": "HTMLModel",
          "state": {
            "_dom_classes": [],
            "_model_module": "@jupyter-widgets/controls",
            "_model_module_version": "1.5.0",
            "_model_name": "HTMLModel",
            "_view_count": null,
            "_view_module": "@jupyter-widgets/controls",
            "_view_module_version": "1.5.0",
            "_view_name": "HTMLView",
            "description": "",
            "description_tooltip": null,
            "layout": "IPY_MODEL_d2e5c7b26b544bd2abce4062cb0ac39e",
            "placeholder": "​",
            "style": "IPY_MODEL_b3283aa9c04c4d9a8953525daac80f0a",
            "value": " 1/1 [02:13&lt;00:00, 133.78s/ splits]"
          }
        },
        "4bf45aade1b14249a9b1d768cce97161": {
          "model_module": "@jupyter-widgets/controls",
          "model_module_version": "1.5.0",
          "model_name": "HBoxModel",
          "state": {
            "_dom_classes": [],
            "_model_module": "@jupyter-widgets/controls",
            "_model_module_version": "1.5.0",
            "_model_name": "HBoxModel",
            "_view_count": null,
            "_view_module": "@jupyter-widgets/controls",
            "_view_module_version": "1.5.0",
            "_view_name": "HBoxView",
            "box_style": "",
            "children": [
              "IPY_MODEL_fb46ba918bd44cd381e011342fdd18ab",
              "IPY_MODEL_c087e78deb824c28b441d39ec9b993dd",
              "IPY_MODEL_ae5550a2cd91495d81f306369f4569e3"
            ],
            "layout": "IPY_MODEL_bf3dbc07fb4e427daa467a0ee4fd6022"
          }
        },
        "585f532140b74417bcb3fcc089ac97c3": {
          "model_module": "@jupyter-widgets/base",
          "model_module_version": "1.2.0",
          "model_name": "LayoutModel",
          "state": {
            "_model_module": "@jupyter-widgets/base",
            "_model_module_version": "1.2.0",
            "_model_name": "LayoutModel",
            "_view_count": null,
            "_view_module": "@jupyter-widgets/base",
            "_view_module_version": "1.2.0",
            "_view_name": "LayoutView",
            "align_content": null,
            "align_items": null,
            "align_self": null,
            "border": null,
            "bottom": null,
            "display": null,
            "flex": null,
            "flex_flow": null,
            "grid_area": null,
            "grid_auto_columns": null,
            "grid_auto_flow": null,
            "grid_auto_rows": null,
            "grid_column": null,
            "grid_gap": null,
            "grid_row": null,
            "grid_template_areas": null,
            "grid_template_columns": null,
            "grid_template_rows": null,
            "height": null,
            "justify_content": null,
            "justify_items": null,
            "left": null,
            "margin": null,
            "max_height": null,
            "max_width": null,
            "min_height": null,
            "min_width": null,
            "object_fit": null,
            "object_position": null,
            "order": null,
            "overflow": null,
            "overflow_x": null,
            "overflow_y": null,
            "padding": null,
            "right": null,
            "top": null,
            "visibility": null,
            "width": null
          }
        },
        "58ae6acbdf334f588cdfeb11676eb207": {
          "model_module": "@jupyter-widgets/base",
          "model_module_version": "1.2.0",
          "model_name": "LayoutModel",
          "state": {
            "_model_module": "@jupyter-widgets/base",
            "_model_module_version": "1.2.0",
            "_model_name": "LayoutModel",
            "_view_count": null,
            "_view_module": "@jupyter-widgets/base",
            "_view_module_version": "1.2.0",
            "_view_name": "LayoutView",
            "align_content": null,
            "align_items": null,
            "align_self": null,
            "border": null,
            "bottom": null,
            "display": null,
            "flex": null,
            "flex_flow": null,
            "grid_area": null,
            "grid_auto_columns": null,
            "grid_auto_flow": null,
            "grid_auto_rows": null,
            "grid_column": null,
            "grid_gap": null,
            "grid_row": null,
            "grid_template_areas": null,
            "grid_template_columns": null,
            "grid_template_rows": null,
            "height": null,
            "justify_content": null,
            "justify_items": null,
            "left": null,
            "margin": null,
            "max_height": null,
            "max_width": null,
            "min_height": null,
            "min_width": null,
            "object_fit": null,
            "object_position": null,
            "order": null,
            "overflow": null,
            "overflow_x": null,
            "overflow_y": null,
            "padding": null,
            "right": null,
            "top": null,
            "visibility": null,
            "width": null
          }
        },
        "5e9fba1c7c484de3bdfb4ee3210e0f7f": {
          "model_module": "@jupyter-widgets/controls",
          "model_module_version": "1.5.0",
          "model_name": "HTMLModel",
          "state": {
            "_dom_classes": [],
            "_model_module": "@jupyter-widgets/controls",
            "_model_module_version": "1.5.0",
            "_model_name": "HTMLModel",
            "_view_count": null,
            "_view_module": "@jupyter-widgets/controls",
            "_view_module_version": "1.5.0",
            "_view_name": "HTMLView",
            "description": "",
            "description_tooltip": null,
            "layout": "IPY_MODEL_77276b60d3044c5084f65c03dc56d65a",
            "placeholder": "​",
            "style": "IPY_MODEL_6254ebd25f3641aa92fea7829ce76fb9",
            "value": " 5367/10000 [00:00&lt;00:00, 53659.94 examples/s]"
          }
        },
        "6254ebd25f3641aa92fea7829ce76fb9": {
          "model_module": "@jupyter-widgets/controls",
          "model_module_version": "1.5.0",
          "model_name": "DescriptionStyleModel",
          "state": {
            "_model_module": "@jupyter-widgets/controls",
            "_model_module_version": "1.5.0",
            "_model_name": "DescriptionStyleModel",
            "_view_count": null,
            "_view_module": "@jupyter-widgets/base",
            "_view_module_version": "1.2.0",
            "_view_name": "StyleView",
            "description_width": ""
          }
        },
        "65b344ffc59c4c3f841648fb5dd3ef3f": {
          "model_module": "@jupyter-widgets/controls",
          "model_module_version": "1.5.0",
          "model_name": "HTMLModel",
          "state": {
            "_dom_classes": [],
            "_model_module": "@jupyter-widgets/controls",
            "_model_module_version": "1.5.0",
            "_model_name": "HTMLModel",
            "_view_count": null,
            "_view_module": "@jupyter-widgets/controls",
            "_view_module_version": "1.5.0",
            "_view_name": "HTMLView",
            "description": "",
            "description_tooltip": null,
            "layout": "IPY_MODEL_9beef0da6e3e47dd8c88f5e434e38d52",
            "placeholder": "​",
            "style": "IPY_MODEL_bafc813853df4979b014b3806c644c75",
            "value": "Dl Size...: 100%"
          }
        },
        "77276b60d3044c5084f65c03dc56d65a": {
          "model_module": "@jupyter-widgets/base",
          "model_module_version": "1.2.0",
          "model_name": "LayoutModel",
          "state": {
            "_model_module": "@jupyter-widgets/base",
            "_model_module_version": "1.2.0",
            "_model_name": "LayoutModel",
            "_view_count": null,
            "_view_module": "@jupyter-widgets/base",
            "_view_module_version": "1.2.0",
            "_view_name": "LayoutView",
            "align_content": null,
            "align_items": null,
            "align_self": null,
            "border": null,
            "bottom": null,
            "display": null,
            "flex": null,
            "flex_flow": null,
            "grid_area": null,
            "grid_auto_columns": null,
            "grid_auto_flow": null,
            "grid_auto_rows": null,
            "grid_column": null,
            "grid_gap": null,
            "grid_row": null,
            "grid_template_areas": null,
            "grid_template_columns": null,
            "grid_template_rows": null,
            "height": null,
            "justify_content": null,
            "justify_items": null,
            "left": null,
            "margin": null,
            "max_height": null,
            "max_width": null,
            "min_height": null,
            "min_width": null,
            "object_fit": null,
            "object_position": null,
            "order": null,
            "overflow": null,
            "overflow_x": null,
            "overflow_y": null,
            "padding": null,
            "right": null,
            "top": null,
            "visibility": null,
            "width": null
          }
        },
        "7ae4888aa2114c0692fe07444cfc4dcb": {
          "model_module": "@jupyter-widgets/controls",
          "model_module_version": "1.5.0",
          "model_name": "DescriptionStyleModel",
          "state": {
            "_model_module": "@jupyter-widgets/controls",
            "_model_module_version": "1.5.0",
            "_model_name": "DescriptionStyleModel",
            "_view_count": null,
            "_view_module": "@jupyter-widgets/base",
            "_view_module_version": "1.2.0",
            "_view_name": "StyleView",
            "description_width": ""
          }
        },
        "7f8af8ea96a14b4b8f7f8be3d5b066a7": {
          "model_module": "@jupyter-widgets/controls",
          "model_module_version": "1.5.0",
          "model_name": "FloatProgressModel",
          "state": {
            "_dom_classes": [],
            "_model_module": "@jupyter-widgets/controls",
            "_model_module_version": "1.5.0",
            "_model_name": "FloatProgressModel",
            "_view_count": null,
            "_view_module": "@jupyter-widgets/controls",
            "_view_module_version": "1.5.0",
            "_view_name": "ProgressView",
            "bar_style": "success",
            "description": "",
            "description_tooltip": null,
            "layout": "IPY_MODEL_203a9839ad7f43bcb92668b6e4040593",
            "max": 1,
            "min": 0,
            "orientation": "horizontal",
            "style": "IPY_MODEL_9fdba0766acf40b9bc87277e9e0ca43a",
            "value": 1
          }
        },
        "88609e8665e24fd0a614c83a222c9668": {
          "model_module": "@jupyter-widgets/base",
          "model_module_version": "1.2.0",
          "model_name": "LayoutModel",
          "state": {
            "_model_module": "@jupyter-widgets/base",
            "_model_module_version": "1.2.0",
            "_model_name": "LayoutModel",
            "_view_count": null,
            "_view_module": "@jupyter-widgets/base",
            "_view_module_version": "1.2.0",
            "_view_name": "LayoutView",
            "align_content": null,
            "align_items": null,
            "align_self": null,
            "border": null,
            "bottom": null,
            "display": null,
            "flex": null,
            "flex_flow": null,
            "grid_area": null,
            "grid_auto_columns": null,
            "grid_auto_flow": null,
            "grid_auto_rows": null,
            "grid_column": null,
            "grid_gap": null,
            "grid_row": null,
            "grid_template_areas": null,
            "grid_template_columns": null,
            "grid_template_rows": null,
            "height": null,
            "justify_content": null,
            "justify_items": null,
            "left": null,
            "margin": null,
            "max_height": null,
            "max_width": null,
            "min_height": null,
            "min_width": null,
            "object_fit": null,
            "object_position": null,
            "order": null,
            "overflow": null,
            "overflow_x": null,
            "overflow_y": null,
            "padding": null,
            "right": null,
            "top": null,
            "visibility": null,
            "width": null
          }
        },
        "88963041d8cb4f66bafc9b76116d445d": {
          "model_module": "@jupyter-widgets/controls",
          "model_module_version": "1.5.0",
          "model_name": "HTMLModel",
          "state": {
            "_dom_classes": [],
            "_model_module": "@jupyter-widgets/controls",
            "_model_module_version": "1.5.0",
            "_model_name": "HTMLModel",
            "_view_count": null,
            "_view_module": "@jupyter-widgets/controls",
            "_view_module_version": "1.5.0",
            "_view_name": "HTMLView",
            "description": "",
            "description_tooltip": null,
            "layout": "IPY_MODEL_88609e8665e24fd0a614c83a222c9668",
            "placeholder": "​",
            "style": "IPY_MODEL_8f0d0cfd85924c13a039330b032eeced",
            "value": "Dl Completed...: 100%"
          }
        },
        "8f0d0cfd85924c13a039330b032eeced": {
          "model_module": "@jupyter-widgets/controls",
          "model_module_version": "1.5.0",
          "model_name": "DescriptionStyleModel",
          "state": {
            "_model_module": "@jupyter-widgets/controls",
            "_model_module_version": "1.5.0",
            "_model_name": "DescriptionStyleModel",
            "_view_count": null,
            "_view_module": "@jupyter-widgets/base",
            "_view_module_version": "1.2.0",
            "_view_name": "StyleView",
            "description_width": ""
          }
        },
        "96669c6c542846fe85b6fc9ca6609da5": {
          "model_module": "@jupyter-widgets/base",
          "model_module_version": "1.2.0",
          "model_name": "LayoutModel",
          "state": {
            "_model_module": "@jupyter-widgets/base",
            "_model_module_version": "1.2.0",
            "_model_name": "LayoutModel",
            "_view_count": null,
            "_view_module": "@jupyter-widgets/base",
            "_view_module_version": "1.2.0",
            "_view_name": "LayoutView",
            "align_content": null,
            "align_items": null,
            "align_self": null,
            "border": null,
            "bottom": null,
            "display": null,
            "flex": null,
            "flex_flow": null,
            "grid_area": null,
            "grid_auto_columns": null,
            "grid_auto_flow": null,
            "grid_auto_rows": null,
            "grid_column": null,
            "grid_gap": null,
            "grid_row": null,
            "grid_template_areas": null,
            "grid_template_columns": null,
            "grid_template_rows": null,
            "height": null,
            "justify_content": null,
            "justify_items": null,
            "left": null,
            "margin": null,
            "max_height": null,
            "max_width": null,
            "min_height": null,
            "min_width": null,
            "object_fit": null,
            "object_position": null,
            "order": null,
            "overflow": null,
            "overflow_x": null,
            "overflow_y": null,
            "padding": null,
            "right": null,
            "top": null,
            "visibility": null,
            "width": null
          }
        },
        "982ea6663bfc4812829351a538f4236d": {
          "model_module": "@jupyter-widgets/controls",
          "model_module_version": "1.5.0",
          "model_name": "HBoxModel",
          "state": {
            "_dom_classes": [],
            "_model_module": "@jupyter-widgets/controls",
            "_model_module_version": "1.5.0",
            "_model_name": "HBoxModel",
            "_view_count": null,
            "_view_module": "@jupyter-widgets/controls",
            "_view_module_version": "1.5.0",
            "_view_name": "HBoxView",
            "box_style": "",
            "children": [
              "IPY_MODEL_65b344ffc59c4c3f841648fb5dd3ef3f",
              "IPY_MODEL_7f8af8ea96a14b4b8f7f8be3d5b066a7",
              "IPY_MODEL_ccaeecd3610c4b499cc6a579f7056a34"
            ],
            "layout": "IPY_MODEL_585f532140b74417bcb3fcc089ac97c3"
          }
        },
        "98bbd6e588794726a48bca2d049ed154": {
          "model_module": "@jupyter-widgets/base",
          "model_module_version": "1.2.0",
          "model_name": "LayoutModel",
          "state": {
            "_model_module": "@jupyter-widgets/base",
            "_model_module_version": "1.2.0",
            "_model_name": "LayoutModel",
            "_view_count": null,
            "_view_module": "@jupyter-widgets/base",
            "_view_module_version": "1.2.0",
            "_view_name": "LayoutView",
            "align_content": null,
            "align_items": null,
            "align_self": null,
            "border": null,
            "bottom": null,
            "display": null,
            "flex": null,
            "flex_flow": null,
            "grid_area": null,
            "grid_auto_columns": null,
            "grid_auto_flow": null,
            "grid_auto_rows": null,
            "grid_column": null,
            "grid_gap": null,
            "grid_row": null,
            "grid_template_areas": null,
            "grid_template_columns": null,
            "grid_template_rows": null,
            "height": null,
            "justify_content": null,
            "justify_items": null,
            "left": null,
            "margin": null,
            "max_height": null,
            "max_width": null,
            "min_height": null,
            "min_width": null,
            "object_fit": null,
            "object_position": null,
            "order": null,
            "overflow": null,
            "overflow_x": null,
            "overflow_y": null,
            "padding": null,
            "right": null,
            "top": null,
            "visibility": null,
            "width": null
          }
        },
        "9b071fefa7fd435092604381d519d71b": {
          "model_module": "@jupyter-widgets/controls",
          "model_module_version": "1.5.0",
          "model_name": "HTMLModel",
          "state": {
            "_dom_classes": [],
            "_model_module": "@jupyter-widgets/controls",
            "_model_module_version": "1.5.0",
            "_model_name": "HTMLModel",
            "_view_count": null,
            "_view_module": "@jupyter-widgets/controls",
            "_view_module_version": "1.5.0",
            "_view_name": "HTMLView",
            "description": "",
            "description_tooltip": null,
            "layout": "IPY_MODEL_f9a60ee97d8d4332b73b6abaea44aa66",
            "placeholder": "​",
            "style": "IPY_MODEL_20bb977a0712452b85e09e5f3f84aa12",
            "value": " 1/1 [00:15&lt;00:00, 15.71s/ url]"
          }
        },
        "9beef0da6e3e47dd8c88f5e434e38d52": {
          "model_module": "@jupyter-widgets/base",
          "model_module_version": "1.2.0",
          "model_name": "LayoutModel",
          "state": {
            "_model_module": "@jupyter-widgets/base",
            "_model_module_version": "1.2.0",
            "_model_name": "LayoutModel",
            "_view_count": null,
            "_view_module": "@jupyter-widgets/base",
            "_view_module_version": "1.2.0",
            "_view_name": "LayoutView",
            "align_content": null,
            "align_items": null,
            "align_self": null,
            "border": null,
            "bottom": null,
            "display": null,
            "flex": null,
            "flex_flow": null,
            "grid_area": null,
            "grid_auto_columns": null,
            "grid_auto_flow": null,
            "grid_auto_rows": null,
            "grid_column": null,
            "grid_gap": null,
            "grid_row": null,
            "grid_template_areas": null,
            "grid_template_columns": null,
            "grid_template_rows": null,
            "height": null,
            "justify_content": null,
            "justify_items": null,
            "left": null,
            "margin": null,
            "max_height": null,
            "max_width": null,
            "min_height": null,
            "min_width": null,
            "object_fit": null,
            "object_position": null,
            "order": null,
            "overflow": null,
            "overflow_x": null,
            "overflow_y": null,
            "padding": null,
            "right": null,
            "top": null,
            "visibility": null,
            "width": null
          }
        },
        "9fdba0766acf40b9bc87277e9e0ca43a": {
          "model_module": "@jupyter-widgets/controls",
          "model_module_version": "1.5.0",
          "model_name": "ProgressStyleModel",
          "state": {
            "_model_module": "@jupyter-widgets/controls",
            "_model_module_version": "1.5.0",
            "_model_name": "ProgressStyleModel",
            "_view_count": null,
            "_view_module": "@jupyter-widgets/base",
            "_view_module_version": "1.2.0",
            "_view_name": "StyleView",
            "bar_color": null,
            "description_width": ""
          }
        },
        "ae5550a2cd91495d81f306369f4569e3": {
          "model_module": "@jupyter-widgets/controls",
          "model_module_version": "1.5.0",
          "model_name": "HTMLModel",
          "state": {
            "_dom_classes": [],
            "_model_module": "@jupyter-widgets/controls",
            "_model_module_version": "1.5.0",
            "_model_name": "HTMLModel",
            "_view_count": null,
            "_view_module": "@jupyter-widgets/controls",
            "_view_module_version": "1.5.0",
            "_view_name": "HTMLView",
            "description": "",
            "description_tooltip": null,
            "layout": "IPY_MODEL_96669c6c542846fe85b6fc9ca6609da5",
            "placeholder": "​",
            "style": "IPY_MODEL_28c7bb36bc95450596c677872aaca04e",
            "value": " 9992/10000 [02:13&lt;00:00, 80.05 examples/s]"
          }
        },
        "ae664872702a4ff9a81d4580b09f28ea": {
          "model_module": "@jupyter-widgets/controls",
          "model_module_version": "1.5.0",
          "model_name": "DescriptionStyleModel",
          "state": {
            "_model_module": "@jupyter-widgets/controls",
            "_model_module_version": "1.5.0",
            "_model_name": "DescriptionStyleModel",
            "_view_count": null,
            "_view_module": "@jupyter-widgets/base",
            "_view_module_version": "1.2.0",
            "_view_name": "StyleView",
            "description_width": ""
          }
        },
        "aff48e758968499e8e56554734bc01f8": {
          "model_module": "@jupyter-widgets/controls",
          "model_module_version": "1.5.0",
          "model_name": "FloatProgressModel",
          "state": {
            "_dom_classes": [],
            "_model_module": "@jupyter-widgets/controls",
            "_model_module_version": "1.5.0",
            "_model_name": "FloatProgressModel",
            "_view_count": null,
            "_view_module": "@jupyter-widgets/controls",
            "_view_module_version": "1.5.0",
            "_view_name": "ProgressView",
            "bar_style": "success",
            "description": "",
            "description_tooltip": null,
            "layout": "IPY_MODEL_2cccd43a5e5445ac97ba8899ec228ac7",
            "max": 1,
            "min": 0,
            "orientation": "horizontal",
            "style": "IPY_MODEL_d50d7ef9c75247899a14cfb98df38593",
            "value": 1
          }
        },
        "b3283aa9c04c4d9a8953525daac80f0a": {
          "model_module": "@jupyter-widgets/controls",
          "model_module_version": "1.5.0",
          "model_name": "DescriptionStyleModel",
          "state": {
            "_model_module": "@jupyter-widgets/controls",
            "_model_module_version": "1.5.0",
            "_model_name": "DescriptionStyleModel",
            "_view_count": null,
            "_view_module": "@jupyter-widgets/base",
            "_view_module_version": "1.2.0",
            "_view_name": "StyleView",
            "description_width": ""
          }
        },
        "b4fd02f0839f48298227707438e3a583": {
          "model_module": "@jupyter-widgets/controls",
          "model_module_version": "1.5.0",
          "model_name": "HTMLModel",
          "state": {
            "_dom_classes": [],
            "_model_module": "@jupyter-widgets/controls",
            "_model_module_version": "1.5.0",
            "_model_name": "HTMLModel",
            "_view_count": null,
            "_view_module": "@jupyter-widgets/controls",
            "_view_module_version": "1.5.0",
            "_view_name": "HTMLView",
            "description": "",
            "description_tooltip": null,
            "layout": "IPY_MODEL_0a111031ed16459b901676aa6b61c859",
            "placeholder": "​",
            "style": "IPY_MODEL_ae664872702a4ff9a81d4580b09f28ea",
            "value": "Generating splits...: 100%"
          }
        },
        "b7e35074746a4ef3a6e55053c9bd2ccf": {
          "model_module": "@jupyter-widgets/base",
          "model_module_version": "1.2.0",
          "model_name": "LayoutModel",
          "state": {
            "_model_module": "@jupyter-widgets/base",
            "_model_module_version": "1.2.0",
            "_model_name": "LayoutModel",
            "_view_count": null,
            "_view_module": "@jupyter-widgets/base",
            "_view_module_version": "1.2.0",
            "_view_name": "LayoutView",
            "align_content": null,
            "align_items": null,
            "align_self": null,
            "border": null,
            "bottom": null,
            "display": null,
            "flex": null,
            "flex_flow": null,
            "grid_area": null,
            "grid_auto_columns": null,
            "grid_auto_flow": null,
            "grid_auto_rows": null,
            "grid_column": null,
            "grid_gap": null,
            "grid_row": null,
            "grid_template_areas": null,
            "grid_template_columns": null,
            "grid_template_rows": null,
            "height": null,
            "justify_content": null,
            "justify_items": null,
            "left": null,
            "margin": null,
            "max_height": null,
            "max_width": null,
            "min_height": null,
            "min_width": null,
            "object_fit": null,
            "object_position": null,
            "order": null,
            "overflow": null,
            "overflow_x": null,
            "overflow_y": null,
            "padding": null,
            "right": null,
            "top": null,
            "visibility": null,
            "width": null
          }
        },
        "bafc813853df4979b014b3806c644c75": {
          "model_module": "@jupyter-widgets/controls",
          "model_module_version": "1.5.0",
          "model_name": "DescriptionStyleModel",
          "state": {
            "_model_module": "@jupyter-widgets/controls",
            "_model_module_version": "1.5.0",
            "_model_name": "DescriptionStyleModel",
            "_view_count": null,
            "_view_module": "@jupyter-widgets/base",
            "_view_module_version": "1.2.0",
            "_view_name": "StyleView",
            "description_width": ""
          }
        },
        "bf3dbc07fb4e427daa467a0ee4fd6022": {
          "model_module": "@jupyter-widgets/base",
          "model_module_version": "1.2.0",
          "model_name": "LayoutModel",
          "state": {
            "_model_module": "@jupyter-widgets/base",
            "_model_module_version": "1.2.0",
            "_model_name": "LayoutModel",
            "_view_count": null,
            "_view_module": "@jupyter-widgets/base",
            "_view_module_version": "1.2.0",
            "_view_name": "LayoutView",
            "align_content": null,
            "align_items": null,
            "align_self": null,
            "border": null,
            "bottom": null,
            "display": null,
            "flex": null,
            "flex_flow": null,
            "grid_area": null,
            "grid_auto_columns": null,
            "grid_auto_flow": null,
            "grid_auto_rows": null,
            "grid_column": null,
            "grid_gap": null,
            "grid_row": null,
            "grid_template_areas": null,
            "grid_template_columns": null,
            "grid_template_rows": null,
            "height": null,
            "justify_content": null,
            "justify_items": null,
            "left": null,
            "margin": null,
            "max_height": null,
            "max_width": null,
            "min_height": null,
            "min_width": null,
            "object_fit": null,
            "object_position": null,
            "order": null,
            "overflow": null,
            "overflow_x": null,
            "overflow_y": null,
            "padding": null,
            "right": null,
            "top": null,
            "visibility": "hidden",
            "width": null
          }
        },
        "c087e78deb824c28b441d39ec9b993dd": {
          "model_module": "@jupyter-widgets/controls",
          "model_module_version": "1.5.0",
          "model_name": "FloatProgressModel",
          "state": {
            "_dom_classes": [],
            "_model_module": "@jupyter-widgets/controls",
            "_model_module_version": "1.5.0",
            "_model_name": "FloatProgressModel",
            "_view_count": null,
            "_view_module": "@jupyter-widgets/controls",
            "_view_module_version": "1.5.0",
            "_view_name": "ProgressView",
            "bar_style": "",
            "description": "",
            "description_tooltip": null,
            "layout": "IPY_MODEL_f18831a2c6554145b3ec6ca90a2535f8",
            "max": 10000,
            "min": 0,
            "orientation": "horizontal",
            "style": "IPY_MODEL_17358b901317448fa080dd1f57be63e9",
            "value": 10000
          }
        },
        "ccaeecd3610c4b499cc6a579f7056a34": {
          "model_module": "@jupyter-widgets/controls",
          "model_module_version": "1.5.0",
          "model_name": "HTMLModel",
          "state": {
            "_dom_classes": [],
            "_model_module": "@jupyter-widgets/controls",
            "_model_module_version": "1.5.0",
            "_model_name": "HTMLModel",
            "_view_count": null,
            "_view_module": "@jupyter-widgets/controls",
            "_view_module_version": "1.5.0",
            "_view_name": "HTMLView",
            "description": "",
            "description_tooltip": null,
            "layout": "IPY_MODEL_402df473d5f54bed9e2e2fbe415a429a",
            "placeholder": "​",
            "style": "IPY_MODEL_f21e6bd0d6524be69fdf004f6682044b",
            "value": " 781/781 [00:15&lt;00:00, 44.10 MiB/s]"
          }
        },
        "d230c964cb6148c38063a91e0956cb3d": {
          "model_module": "@jupyter-widgets/controls",
          "model_module_version": "1.5.0",
          "model_name": "FloatProgressModel",
          "state": {
            "_dom_classes": [],
            "_model_module": "@jupyter-widgets/controls",
            "_model_module_version": "1.5.0",
            "_model_name": "FloatProgressModel",
            "_view_count": null,
            "_view_module": "@jupyter-widgets/controls",
            "_view_module_version": "1.5.0",
            "_view_name": "ProgressView",
            "bar_style": "",
            "description": "",
            "description_tooltip": null,
            "layout": "IPY_MODEL_98bbd6e588794726a48bca2d049ed154",
            "max": 1,
            "min": 0,
            "orientation": "horizontal",
            "style": "IPY_MODEL_dcd1761227ad40808c79ae23d3fb8054",
            "value": 1
          }
        },
        "d2e5c7b26b544bd2abce4062cb0ac39e": {
          "model_module": "@jupyter-widgets/base",
          "model_module_version": "1.2.0",
          "model_name": "LayoutModel",
          "state": {
            "_model_module": "@jupyter-widgets/base",
            "_model_module_version": "1.2.0",
            "_model_name": "LayoutModel",
            "_view_count": null,
            "_view_module": "@jupyter-widgets/base",
            "_view_module_version": "1.2.0",
            "_view_name": "LayoutView",
            "align_content": null,
            "align_items": null,
            "align_self": null,
            "border": null,
            "bottom": null,
            "display": null,
            "flex": null,
            "flex_flow": null,
            "grid_area": null,
            "grid_auto_columns": null,
            "grid_auto_flow": null,
            "grid_auto_rows": null,
            "grid_column": null,
            "grid_gap": null,
            "grid_row": null,
            "grid_template_areas": null,
            "grid_template_columns": null,
            "grid_template_rows": null,
            "height": null,
            "justify_content": null,
            "justify_items": null,
            "left": null,
            "margin": null,
            "max_height": null,
            "max_width": null,
            "min_height": null,
            "min_width": null,
            "object_fit": null,
            "object_position": null,
            "order": null,
            "overflow": null,
            "overflow_x": null,
            "overflow_y": null,
            "padding": null,
            "right": null,
            "top": null,
            "visibility": null,
            "width": null
          }
        },
        "d2f7182398c3417da0be5ec2c0c9529a": {
          "model_module": "@jupyter-widgets/controls",
          "model_module_version": "1.5.0",
          "model_name": "HBoxModel",
          "state": {
            "_dom_classes": [],
            "_model_module": "@jupyter-widgets/controls",
            "_model_module_version": "1.5.0",
            "_model_name": "HBoxModel",
            "_view_count": null,
            "_view_module": "@jupyter-widgets/controls",
            "_view_module_version": "1.5.0",
            "_view_name": "HBoxView",
            "box_style": "",
            "children": [
              "IPY_MODEL_dd947dfd02264beeab3c25adbe822aeb",
              "IPY_MODEL_dce90136d8264e988f9a410105d80da2",
              "IPY_MODEL_5e9fba1c7c484de3bdfb4ee3210e0f7f"
            ],
            "layout": "IPY_MODEL_e3b2decd210749ea8de2d60bd3f37a17"
          }
        },
        "d50d7ef9c75247899a14cfb98df38593": {
          "model_module": "@jupyter-widgets/controls",
          "model_module_version": "1.5.0",
          "model_name": "ProgressStyleModel",
          "state": {
            "_model_module": "@jupyter-widgets/controls",
            "_model_module_version": "1.5.0",
            "_model_name": "ProgressStyleModel",
            "_view_count": null,
            "_view_module": "@jupyter-widgets/base",
            "_view_module_version": "1.2.0",
            "_view_name": "StyleView",
            "bar_color": null,
            "description_width": ""
          }
        },
        "dcd1761227ad40808c79ae23d3fb8054": {
          "model_module": "@jupyter-widgets/controls",
          "model_module_version": "1.5.0",
          "model_name": "ProgressStyleModel",
          "state": {
            "_model_module": "@jupyter-widgets/controls",
            "_model_module_version": "1.5.0",
            "_model_name": "ProgressStyleModel",
            "_view_count": null,
            "_view_module": "@jupyter-widgets/base",
            "_view_module_version": "1.2.0",
            "_view_name": "StyleView",
            "bar_color": null,
            "description_width": ""
          }
        },
        "dce90136d8264e988f9a410105d80da2": {
          "model_module": "@jupyter-widgets/controls",
          "model_module_version": "1.5.0",
          "model_name": "FloatProgressModel",
          "state": {
            "_dom_classes": [],
            "_model_module": "@jupyter-widgets/controls",
            "_model_module_version": "1.5.0",
            "_model_name": "FloatProgressModel",
            "_view_count": null,
            "_view_module": "@jupyter-widgets/controls",
            "_view_module_version": "1.5.0",
            "_view_name": "ProgressView",
            "bar_style": "",
            "description": "",
            "description_tooltip": null,
            "layout": "IPY_MODEL_3532fd69f0d64fe980f323fdc495179d",
            "max": 10000,
            "min": 0,
            "orientation": "horizontal",
            "style": "IPY_MODEL_1052c87d727748c4a136d53d118601da",
            "value": 10000
          }
        },
        "dd947dfd02264beeab3c25adbe822aeb": {
          "model_module": "@jupyter-widgets/controls",
          "model_module_version": "1.5.0",
          "model_name": "HTMLModel",
          "state": {
            "_dom_classes": [],
            "_model_module": "@jupyter-widgets/controls",
            "_model_module_version": "1.5.0",
            "_model_name": "HTMLModel",
            "_view_count": null,
            "_view_module": "@jupyter-widgets/controls",
            "_view_module_version": "1.5.0",
            "_view_name": "HTMLView",
            "description": "",
            "description_tooltip": null,
            "layout": "IPY_MODEL_58ae6acbdf334f588cdfeb11676eb207",
            "placeholder": "​",
            "style": "IPY_MODEL_7ae4888aa2114c0692fe07444cfc4dcb",
            "value": "Shuffling /root/tensorflow_datasets/moving_mnist/1.0.0.incompleteLH4YNX/moving_mnist-test.tfrecord*...:  54%"
          }
        },
        "e24c0681435d4823965f1a68766f4cd4": {
          "model_module": "@jupyter-widgets/controls",
          "model_module_version": "1.5.0",
          "model_name": "DescriptionStyleModel",
          "state": {
            "_model_module": "@jupyter-widgets/controls",
            "_model_module_version": "1.5.0",
            "_model_name": "DescriptionStyleModel",
            "_view_count": null,
            "_view_module": "@jupyter-widgets/base",
            "_view_module_version": "1.2.0",
            "_view_name": "StyleView",
            "description_width": ""
          }
        },
        "e3b2decd210749ea8de2d60bd3f37a17": {
          "model_module": "@jupyter-widgets/base",
          "model_module_version": "1.2.0",
          "model_name": "LayoutModel",
          "state": {
            "_model_module": "@jupyter-widgets/base",
            "_model_module_version": "1.2.0",
            "_model_name": "LayoutModel",
            "_view_count": null,
            "_view_module": "@jupyter-widgets/base",
            "_view_module_version": "1.2.0",
            "_view_name": "LayoutView",
            "align_content": null,
            "align_items": null,
            "align_self": null,
            "border": null,
            "bottom": null,
            "display": null,
            "flex": null,
            "flex_flow": null,
            "grid_area": null,
            "grid_auto_columns": null,
            "grid_auto_flow": null,
            "grid_auto_rows": null,
            "grid_column": null,
            "grid_gap": null,
            "grid_row": null,
            "grid_template_areas": null,
            "grid_template_columns": null,
            "grid_template_rows": null,
            "height": null,
            "justify_content": null,
            "justify_items": null,
            "left": null,
            "margin": null,
            "max_height": null,
            "max_width": null,
            "min_height": null,
            "min_width": null,
            "object_fit": null,
            "object_position": null,
            "order": null,
            "overflow": null,
            "overflow_x": null,
            "overflow_y": null,
            "padding": null,
            "right": null,
            "top": null,
            "visibility": "hidden",
            "width": null
          }
        },
        "eca2594302504aa58d9e4976056eebd1": {
          "model_module": "@jupyter-widgets/base",
          "model_module_version": "1.2.0",
          "model_name": "LayoutModel",
          "state": {
            "_model_module": "@jupyter-widgets/base",
            "_model_module_version": "1.2.0",
            "_model_name": "LayoutModel",
            "_view_count": null,
            "_view_module": "@jupyter-widgets/base",
            "_view_module_version": "1.2.0",
            "_view_name": "LayoutView",
            "align_content": null,
            "align_items": null,
            "align_self": null,
            "border": null,
            "bottom": null,
            "display": null,
            "flex": null,
            "flex_flow": null,
            "grid_area": null,
            "grid_auto_columns": null,
            "grid_auto_flow": null,
            "grid_auto_rows": null,
            "grid_column": null,
            "grid_gap": null,
            "grid_row": null,
            "grid_template_areas": null,
            "grid_template_columns": null,
            "grid_template_rows": null,
            "height": null,
            "justify_content": null,
            "justify_items": null,
            "left": null,
            "margin": null,
            "max_height": null,
            "max_width": null,
            "min_height": null,
            "min_width": null,
            "object_fit": null,
            "object_position": null,
            "order": null,
            "overflow": null,
            "overflow_x": null,
            "overflow_y": null,
            "padding": null,
            "right": null,
            "top": null,
            "visibility": "hidden",
            "width": null
          }
        },
        "f18831a2c6554145b3ec6ca90a2535f8": {
          "model_module": "@jupyter-widgets/base",
          "model_module_version": "1.2.0",
          "model_name": "LayoutModel",
          "state": {
            "_model_module": "@jupyter-widgets/base",
            "_model_module_version": "1.2.0",
            "_model_name": "LayoutModel",
            "_view_count": null,
            "_view_module": "@jupyter-widgets/base",
            "_view_module_version": "1.2.0",
            "_view_name": "LayoutView",
            "align_content": null,
            "align_items": null,
            "align_self": null,
            "border": null,
            "bottom": null,
            "display": null,
            "flex": null,
            "flex_flow": null,
            "grid_area": null,
            "grid_auto_columns": null,
            "grid_auto_flow": null,
            "grid_auto_rows": null,
            "grid_column": null,
            "grid_gap": null,
            "grid_row": null,
            "grid_template_areas": null,
            "grid_template_columns": null,
            "grid_template_rows": null,
            "height": null,
            "justify_content": null,
            "justify_items": null,
            "left": null,
            "margin": null,
            "max_height": null,
            "max_width": null,
            "min_height": null,
            "min_width": null,
            "object_fit": null,
            "object_position": null,
            "order": null,
            "overflow": null,
            "overflow_x": null,
            "overflow_y": null,
            "padding": null,
            "right": null,
            "top": null,
            "visibility": null,
            "width": null
          }
        },
        "f21e6bd0d6524be69fdf004f6682044b": {
          "model_module": "@jupyter-widgets/controls",
          "model_module_version": "1.5.0",
          "model_name": "DescriptionStyleModel",
          "state": {
            "_model_module": "@jupyter-widgets/controls",
            "_model_module_version": "1.5.0",
            "_model_name": "DescriptionStyleModel",
            "_view_count": null,
            "_view_module": "@jupyter-widgets/base",
            "_view_module_version": "1.2.0",
            "_view_name": "StyleView",
            "description_width": ""
          }
        },
        "f9a60ee97d8d4332b73b6abaea44aa66": {
          "model_module": "@jupyter-widgets/base",
          "model_module_version": "1.2.0",
          "model_name": "LayoutModel",
          "state": {
            "_model_module": "@jupyter-widgets/base",
            "_model_module_version": "1.2.0",
            "_model_name": "LayoutModel",
            "_view_count": null,
            "_view_module": "@jupyter-widgets/base",
            "_view_module_version": "1.2.0",
            "_view_name": "LayoutView",
            "align_content": null,
            "align_items": null,
            "align_self": null,
            "border": null,
            "bottom": null,
            "display": null,
            "flex": null,
            "flex_flow": null,
            "grid_area": null,
            "grid_auto_columns": null,
            "grid_auto_flow": null,
            "grid_auto_rows": null,
            "grid_column": null,
            "grid_gap": null,
            "grid_row": null,
            "grid_template_areas": null,
            "grid_template_columns": null,
            "grid_template_rows": null,
            "height": null,
            "justify_content": null,
            "justify_items": null,
            "left": null,
            "margin": null,
            "max_height": null,
            "max_width": null,
            "min_height": null,
            "min_width": null,
            "object_fit": null,
            "object_position": null,
            "order": null,
            "overflow": null,
            "overflow_x": null,
            "overflow_y": null,
            "padding": null,
            "right": null,
            "top": null,
            "visibility": null,
            "width": null
          }
        },
        "fb46ba918bd44cd381e011342fdd18ab": {
          "model_module": "@jupyter-widgets/controls",
          "model_module_version": "1.5.0",
          "model_name": "HTMLModel",
          "state": {
            "_dom_classes": [],
            "_model_module": "@jupyter-widgets/controls",
            "_model_module_version": "1.5.0",
            "_model_name": "HTMLModel",
            "_view_count": null,
            "_view_module": "@jupyter-widgets/controls",
            "_view_module_version": "1.5.0",
            "_view_name": "HTMLView",
            "description": "",
            "description_tooltip": null,
            "layout": "IPY_MODEL_b7e35074746a4ef3a6e55053c9bd2ccf",
            "placeholder": "​",
            "style": "IPY_MODEL_e24c0681435d4823965f1a68766f4cd4",
            "value": "Generating test examples...: 100%"
          }
        }
      }
    }
  },
  "nbformat": 4,
  "nbformat_minor": 0
}
